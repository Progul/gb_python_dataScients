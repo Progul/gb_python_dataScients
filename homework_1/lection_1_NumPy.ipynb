{
 "cells": [
  {
   "cell_type": "markdown",
   "id": "b66aa298",
   "metadata": {},
   "source": [
    "# Основы NymPy"
   ]
  },
  {
   "cell_type": "markdown",
   "id": "702b7c55",
   "metadata": {},
   "source": [
    "### Создаём массив"
   ]
  },
  {
   "cell_type": "code",
   "execution_count": 1,
   "id": "0f3ee450",
   "metadata": {},
   "outputs": [],
   "source": [
    "import numpy as np # импортируем numpy"
   ]
  },
  {
   "cell_type": "code",
   "execution_count": 2,
   "id": "5002858f",
   "metadata": {},
   "outputs": [],
   "source": [
    "a = [i for i in range(10)] # создаем список из 9 цифр с помощью цикла for"
   ]
  },
  {
   "cell_type": "code",
   "execution_count": 8,
   "id": "dbb341df",
   "metadata": {},
   "outputs": [
    {
     "data": {
      "text/plain": [
       "[0, 1, 2, 3, 4, 5, 6, 7, 8, 9]"
      ]
     },
     "execution_count": 8,
     "metadata": {},
     "output_type": "execute_result"
    }
   ],
   "source": [
    "a # вызываем созданный список"
   ]
  },
  {
   "cell_type": "code",
   "execution_count": 6,
   "id": "856a4390",
   "metadata": {},
   "outputs": [],
   "source": [
    "b = np.array(a) # Создаём массив NumPy присваивая его переменной b. Помещаем весь список в функцию array"
   ]
  },
  {
   "cell_type": "code",
   "execution_count": 9,
   "id": "b8a4fb09",
   "metadata": {},
   "outputs": [
    {
     "data": {
      "text/plain": [
       "array([0, 1, 2, 3, 4, 5, 6, 7, 8, 9])"
      ]
     },
     "execution_count": 9,
     "metadata": {},
     "output_type": "execute_result"
    }
   ],
   "source": [
    "b # Массив NumPy"
   ]
  },
  {
   "cell_type": "code",
   "execution_count": 10,
   "id": "b6b78687",
   "metadata": {},
   "outputs": [],
   "source": [
    "b = np.array([0, 1, 2, 3, 4, 5, 6, 7, 8, 9]) # Можно сразу создать список в функции array"
   ]
  },
  {
   "cell_type": "code",
   "execution_count": 11,
   "id": "ad440958",
   "metadata": {},
   "outputs": [
    {
     "data": {
      "text/plain": [
       "array([0, 1, 2, 3, 4, 5, 6, 7, 8, 9])"
      ]
     },
     "execution_count": 11,
     "metadata": {},
     "output_type": "execute_result"
    }
   ],
   "source": [
    "b"
   ]
  },
  {
   "cell_type": "code",
   "execution_count": 14,
   "id": "14de2e72",
   "metadata": {},
   "outputs": [],
   "source": [
    "b = np.array([i for i in range(10)]) # Можно также запускать в этой функции генератор"
   ]
  },
  {
   "cell_type": "code",
   "execution_count": 15,
   "id": "340cb431",
   "metadata": {},
   "outputs": [
    {
     "data": {
      "text/plain": [
       "array([0, 1, 2, 3, 4, 5, 6, 7, 8, 9])"
      ]
     },
     "execution_count": 15,
     "metadata": {},
     "output_type": "execute_result"
    }
   ],
   "source": [
    "b"
   ]
  },
  {
   "cell_type": "code",
   "execution_count": 19,
   "id": "46d385d8",
   "metadata": {},
   "outputs": [],
   "source": [
    "c = (0, 1, 2, 3, 4, 5, 6, 7, 8, 9)"
   ]
  },
  {
   "cell_type": "code",
   "execution_count": 21,
   "id": "98f103e6",
   "metadata": {},
   "outputs": [],
   "source": [
    "d = np.array(c) # Можно добавлять кортежи в массивы"
   ]
  },
  {
   "cell_type": "code",
   "execution_count": 22,
   "id": "78596630",
   "metadata": {},
   "outputs": [
    {
     "data": {
      "text/plain": [
       "array([0, 1, 2, 3, 4, 5, 6, 7, 8, 9])"
      ]
     },
     "execution_count": 22,
     "metadata": {},
     "output_type": "execute_result"
    }
   ],
   "source": [
    "d"
   ]
  },
  {
   "cell_type": "code",
   "execution_count": 23,
   "id": "985cb264",
   "metadata": {},
   "outputs": [
    {
     "data": {
      "text/plain": [
       "numpy.ndarray"
      ]
     },
     "execution_count": 23,
     "metadata": {},
     "output_type": "execute_result"
    }
   ],
   "source": [
    "type(d) # Узнаем ее тип с помощью объекта type"
   ]
  },
  {
   "cell_type": "markdown",
   "id": "1076d254",
   "metadata": {},
   "source": [
    "ndarray - n размерный массив"
   ]
  },
  {
   "cell_type": "markdown",
   "id": "ef2b164f",
   "metadata": {},
   "source": [
    "### Типы данных массивов"
   ]
  },
  {
   "cell_type": "code",
   "execution_count": 24,
   "id": "ab6c00fe",
   "metadata": {},
   "outputs": [],
   "source": [
    "d = np.array(a, dtype = float) # Можно в процессе поменять тип нашего массива, допустим на float"
   ]
  },
  {
   "cell_type": "code",
   "execution_count": 27,
   "id": "52313872",
   "metadata": {},
   "outputs": [],
   "source": [
    "a = [0, 1, 2, 3, 4, 5, 6, 7, 8, 9.9]\n",
    "# В отличии от списка и кортежа, nparray предпочитает данные одного типа \n",
    "# запишем в список тип данных с плавающей точкой"
   ]
  },
  {
   "cell_type": "code",
   "execution_count": 30,
   "id": "da3c0978",
   "metadata": {},
   "outputs": [],
   "source": [
    "b = np.array(a, dtype = int) # Поменяем наш тип на int"
   ]
  },
  {
   "cell_type": "code",
   "execution_count": 31,
   "id": "e4a46cc3",
   "metadata": {},
   "outputs": [
    {
     "data": {
      "text/plain": [
       "array([0, 1, 2, 3, 4, 5, 6, 7, 8, 9])"
      ]
     },
     "execution_count": 31,
     "metadata": {},
     "output_type": "execute_result"
    }
   ],
   "source": [
    "b # Мы видим, что дробная часть исяезла и осталась просто 9"
   ]
  },
  {
   "cell_type": "code",
   "execution_count": 32,
   "id": "c3de44a5",
   "metadata": {},
   "outputs": [
    {
     "data": {
      "text/plain": [
       "array([0. , 1. , 2. , 3. , 4. , 5. , 6. , 7. , 8. , 9.9])"
      ]
     },
     "execution_count": 32,
     "metadata": {},
     "output_type": "execute_result"
    }
   ],
   "source": [
    "b = np.array(a, dtype = float # Пропищем float и все числа стали с плавающей точкой\n",
    "b"
   ]
  },
  {
   "cell_type": "code",
   "execution_count": 33,
   "id": "cfa1f152",
   "metadata": {},
   "outputs": [
    {
     "data": {
      "text/plain": [
       "array(['0', '1', '2', '3', '4', '5', '6', '7', '8', '9.9'], dtype='<U3')"
      ]
     },
     "execution_count": 33,
     "metadata": {},
     "output_type": "execute_result"
    }
   ],
   "source": [
    "b = np.array(a, dtype = str) # Пропищем его как строка и все числа стали типом str\n",
    "b"
   ]
  },
  {
   "cell_type": "markdown",
   "id": "c0887eea",
   "metadata": {},
   "source": [
    "Достаточно одного типа данных в массивах, чтобы весь массив принял его тип данных"
   ]
  },
  {
   "cell_type": "code",
   "execution_count": 34,
   "id": "a90fe8ff",
   "metadata": {},
   "outputs": [
    {
     "data": {
      "text/plain": [
       "'3'"
      ]
     },
     "execution_count": 34,
     "metadata": {},
     "output_type": "execute_result"
    }
   ],
   "source": [
    "b[3] # Индексация как в обычном питоне"
   ]
  },
  {
   "cell_type": "code",
   "execution_count": 36,
   "id": "bc83d85e",
   "metadata": {},
   "outputs": [
    {
     "data": {
      "text/plain": [
       "1"
      ]
     },
     "execution_count": 36,
     "metadata": {},
     "output_type": "execute_result"
    }
   ],
   "source": [
    "b.ndim # Посмотреть размерность массива"
   ]
  },
  {
   "cell_type": "code",
   "execution_count": 37,
   "id": "586e309d",
   "metadata": {},
   "outputs": [
    {
     "data": {
      "text/plain": [
       "(10,)"
      ]
     },
     "execution_count": 37,
     "metadata": {},
     "output_type": "execute_result"
    }
   ],
   "source": [
    "b.shape # Размерность массива"
   ]
  },
  {
   "cell_type": "markdown",
   "id": "97e7178f",
   "metadata": {},
   "source": [
    "### Создадим 2D (двумерный) массив "
   ]
  },
  {
   "cell_type": "code",
   "execution_count": 12,
   "id": "ae80f1df",
   "metadata": {},
   "outputs": [],
   "source": [
    "b = np.array([[i for i in range(10)],\n",
    "             [t for t in range(10, 20)],\n",
    "             [y for y in range(20, 30)]]) # Создаем массив с помощью генераторов"
   ]
  },
  {
   "cell_type": "code",
   "execution_count": 13,
   "id": "43f73dc4",
   "metadata": {},
   "outputs": [
    {
     "data": {
      "text/plain": [
       "array([[ 0,  1,  2,  3,  4,  5,  6,  7,  8,  9],\n",
       "       [10, 11, 12, 13, 14, 15, 16, 17, 18, 19],\n",
       "       [20, 21, 22, 23, 24, 25, 26, 27, 28, 29]])"
      ]
     },
     "execution_count": 13,
     "metadata": {},
     "output_type": "execute_result"
    }
   ],
   "source": [
    "b"
   ]
  },
  {
   "cell_type": "code",
   "execution_count": 9,
   "id": "c6360613",
   "metadata": {},
   "outputs": [
    {
     "data": {
      "text/plain": [
       "(3, 10)"
      ]
     },
     "execution_count": 9,
     "metadata": {},
     "output_type": "execute_result"
    }
   ],
   "source": [
    "b.shape # Так как тут два числа, это значит, что у нас двумерный массив 3 ряда, 10 колонок"
   ]
  },
  {
   "cell_type": "code",
   "execution_count": 10,
   "id": "84c834e6",
   "metadata": {},
   "outputs": [
    {
     "data": {
      "text/plain": [
       "30"
      ]
     },
     "execution_count": 10,
     "metadata": {},
     "output_type": "execute_result"
    }
   ],
   "source": [
    "b.size # Можно увидеть общее колличество элементов в матрице"
   ]
  },
  {
   "cell_type": "code",
   "execution_count": 15,
   "id": "c674bad1",
   "metadata": {},
   "outputs": [
    {
     "data": {
      "text/plain": [
       "array([[ 0,  1,  2],\n",
       "       [10, 11, 12]])"
      ]
     },
     "execution_count": 15,
     "metadata": {},
     "output_type": "execute_result"
    }
   ],
   "source": [
    "b[:2, :3] # Делаем срез"
   ]
  },
  {
   "cell_type": "code",
   "execution_count": 16,
   "id": "3bfb991c",
   "metadata": {},
   "outputs": [
    {
     "data": {
      "text/plain": [
       "array([[15, 16, 17, 18, 19],\n",
       "       [25, 26, 27, 28, 29]])"
      ]
     },
     "execution_count": 16,
     "metadata": {},
     "output_type": "execute_result"
    }
   ],
   "source": [
    "b[1:, 5:] # Получаем матрицу 2х5"
   ]
  },
  {
   "cell_type": "code",
   "execution_count": 17,
   "id": "e3cea761",
   "metadata": {},
   "outputs": [
    {
     "data": {
      "text/plain": [
       "array([[15, 16, 17, 18, 19],\n",
       "       [25, 26, 27, 28, 29]])"
      ]
     },
     "execution_count": 17,
     "metadata": {},
     "output_type": "execute_result"
    }
   ],
   "source": [
    "c = b[1:, 5:] # Это представление массива b view, по сути это ссылка\n",
    "c"
   ]
  },
  {
   "cell_type": "markdown",
   "id": "5033147f",
   "metadata": {},
   "source": [
    "Если мы хотим отдельный независимый массив то:"
   ]
  },
  {
   "cell_type": "code",
   "execution_count": 19,
   "id": "e6bd31af",
   "metadata": {},
   "outputs": [],
   "source": [
    "c = b[1:, 5:].copy() # Нужно применить метод copy()"
   ]
  },
  {
   "cell_type": "code",
   "execution_count": 20,
   "id": "4db35ada",
   "metadata": {},
   "outputs": [
    {
     "data": {
      "text/plain": [
       "array([[15, 16, 17, 18, 19],\n",
       "       [25, 26, 27, 28, 29]])"
      ]
     },
     "execution_count": 20,
     "metadata": {},
     "output_type": "execute_result"
    }
   ],
   "source": [
    " c"
   ]
  },
  {
   "cell_type": "markdown",
   "id": "8f80353e",
   "metadata": {},
   "source": [
    "### DATA TYPES\n",
    "Самыми популярными типами данных являются float32 и float64,\n",
    "а так же int32 и int64"
   ]
  },
  {
   "cell_type": "code",
   "execution_count": 3,
   "id": "52c3f3cb",
   "metadata": {},
   "outputs": [],
   "source": [
    "b = np.array([1., 2., 3.], dtype = np.float32)"
   ]
  },
  {
   "cell_type": "code",
   "execution_count": 4,
   "id": "9c002b58",
   "metadata": {},
   "outputs": [
    {
     "data": {
      "text/plain": [
       "array([1., 2., 3.], dtype=float32)"
      ]
     },
     "execution_count": 4,
     "metadata": {},
     "output_type": "execute_result"
    }
   ],
   "source": [
    "b"
   ]
  },
  {
   "cell_type": "code",
   "execution_count": 6,
   "id": "c3ede239",
   "metadata": {},
   "outputs": [],
   "source": [
    "b = np.array([1., 2., 3.], dtype = np.float64)"
   ]
  },
  {
   "cell_type": "code",
   "execution_count": 7,
   "id": "cb549c8b",
   "metadata": {},
   "outputs": [
    {
     "data": {
      "text/plain": [
       "array([1., 2., 3.])"
      ]
     },
     "execution_count": 7,
     "metadata": {},
     "output_type": "execute_result"
    }
   ],
   "source": [
    "b"
   ]
  },
  {
   "cell_type": "code",
   "execution_count": 8,
   "id": "d2c2873d",
   "metadata": {},
   "outputs": [
    {
     "data": {
      "text/plain": [
       "dtype('float64')"
      ]
     },
     "execution_count": 8,
     "metadata": {},
     "output_type": "execute_result"
    }
   ],
   "source": [
    "b.dtype"
   ]
  },
  {
   "cell_type": "code",
   "execution_count": 11,
   "id": "948f507e",
   "metadata": {},
   "outputs": [],
   "source": [
    "b = np.array([1,2,3], dtype = np.int32)"
   ]
  },
  {
   "cell_type": "code",
   "execution_count": 12,
   "id": "4ef732fe",
   "metadata": {},
   "outputs": [
    {
     "data": {
      "text/plain": [
       "array([1, 2, 3], dtype=int32)"
      ]
     },
     "execution_count": 12,
     "metadata": {},
     "output_type": "execute_result"
    }
   ],
   "source": [
    "b"
   ]
  },
  {
   "cell_type": "code",
   "execution_count": 13,
   "id": "ac5d6faa",
   "metadata": {},
   "outputs": [
    {
     "data": {
      "text/plain": [
       "dtype('int32')"
      ]
     },
     "execution_count": 13,
     "metadata": {},
     "output_type": "execute_result"
    }
   ],
   "source": [
    "b.dtype"
   ]
  },
  {
   "cell_type": "code",
   "execution_count": 14,
   "id": "e57c9546",
   "metadata": {},
   "outputs": [],
   "source": [
    "b = np.array([1,2,3], dtype = np.int64)"
   ]
  },
  {
   "cell_type": "code",
   "execution_count": 15,
   "id": "fdab51a3",
   "metadata": {},
   "outputs": [
    {
     "data": {
      "text/plain": [
       "array([1, 2, 3])"
      ]
     },
     "execution_count": 15,
     "metadata": {},
     "output_type": "execute_result"
    }
   ],
   "source": [
    "b"
   ]
  },
  {
   "cell_type": "code",
   "execution_count": 16,
   "id": "80d434dd",
   "metadata": {},
   "outputs": [
    {
     "data": {
      "text/plain": [
       "dtype('int64')"
      ]
     },
     "execution_count": 16,
     "metadata": {},
     "output_type": "execute_result"
    }
   ],
   "source": [
    "b.dtype"
   ]
  },
  {
   "cell_type": "markdown",
   "id": "1965ca3c",
   "metadata": {},
   "source": [
    "# Операции с векторами"
   ]
  },
  {
   "cell_type": "markdown",
   "id": "d81092a8",
   "metadata": {},
   "source": [
    "Загрузим библиотеку NumPy"
   ]
  },
  {
   "cell_type": "code",
   "execution_count": 17,
   "id": "e1201c39",
   "metadata": {},
   "outputs": [],
   "source": [
    "import numpy as np"
   ]
  },
  {
   "cell_type": "markdown",
   "id": "84bb1ce5",
   "metadata": {},
   "source": [
    "Создадим два массива одинакового размера"
   ]
  },
  {
   "cell_type": "code",
   "execution_count": 18,
   "id": "f6f2a658",
   "metadata": {},
   "outputs": [],
   "source": [
    "a = np.array([0,1,2,3,4])"
   ]
  },
  {
   "cell_type": "code",
   "execution_count": 20,
   "id": "8253f12d",
   "metadata": {},
   "outputs": [],
   "source": [
    "b = np.array([5,6,7,8,9])"
   ]
  },
  {
   "cell_type": "markdown",
   "id": "fef62bd3",
   "metadata": {},
   "source": [
    "### Сложение векторов"
   ]
  },
  {
   "cell_type": "markdown",
   "id": "8470c914",
   "metadata": {},
   "source": [
    "При сложении используется обычное сложение и получается точно такой же вектор"
   ]
  },
  {
   "cell_type": "code",
   "execution_count": 23,
   "id": "bc53a32f",
   "metadata": {},
   "outputs": [],
   "source": [
    "c = a + b"
   ]
  },
  {
   "cell_type": "code",
   "execution_count": 24,
   "id": "e3c1a68f",
   "metadata": {},
   "outputs": [
    {
     "data": {
      "text/plain": [
       "array([ 5,  7,  9, 11, 13])"
      ]
     },
     "execution_count": 24,
     "metadata": {},
     "output_type": "execute_result"
    }
   ],
   "source": [
    "c"
   ]
  },
  {
   "cell_type": "markdown",
   "id": "89bf9382",
   "metadata": {},
   "source": [
    "Еще один способ:"
   ]
  },
  {
   "cell_type": "code",
   "execution_count": 25,
   "id": "cb81f956",
   "metadata": {},
   "outputs": [],
   "source": [
    "c = np.add(a, b) # Берем функцию из библиотеки numpy - add"
   ]
  },
  {
   "cell_type": "code",
   "execution_count": 27,
   "id": "0cd639c2",
   "metadata": {},
   "outputs": [
    {
     "data": {
      "text/plain": [
       "array([ 5,  7,  9, 11, 13])"
      ]
     },
     "execution_count": 27,
     "metadata": {},
     "output_type": "execute_result"
    }
   ],
   "source": [
    "c"
   ]
  },
  {
   "cell_type": "markdown",
   "id": "cde39393",
   "metadata": {},
   "source": [
    "### Вычитание векторов"
   ]
  },
  {
   "cell_type": "code",
   "execution_count": 28,
   "id": "be20a8e0",
   "metadata": {},
   "outputs": [],
   "source": [
    "a = np.array([5,4,8,4,3])"
   ]
  },
  {
   "cell_type": "code",
   "execution_count": 29,
   "id": "9fff0297",
   "metadata": {},
   "outputs": [],
   "source": [
    "b = np.array([3,5,7,1,3])"
   ]
  },
  {
   "cell_type": "code",
   "execution_count": 33,
   "id": "38399ea6",
   "metadata": {},
   "outputs": [
    {
     "data": {
      "text/plain": [
       "array([ 2, -1,  1,  3,  0])"
      ]
     },
     "execution_count": 33,
     "metadata": {},
     "output_type": "execute_result"
    }
   ],
   "source": [
    "d = a - b\n",
    "d"
   ]
  },
  {
   "cell_type": "markdown",
   "id": "3d5a4526",
   "metadata": {},
   "source": [
    "Альтернативный способ: "
   ]
  },
  {
   "cell_type": "code",
   "execution_count": 34,
   "id": "f8bff97f",
   "metadata": {},
   "outputs": [
    {
     "data": {
      "text/plain": [
       "array([ 2, -1,  1,  3,  0])"
      ]
     },
     "execution_count": 34,
     "metadata": {},
     "output_type": "execute_result"
    }
   ],
   "source": [
    "d = np.subtract(a,b)\n",
    "d"
   ]
  },
  {
   "cell_type": "markdown",
   "id": "8a4fe53c",
   "metadata": {},
   "source": [
    "При вычитании векторов, их размерность должна совпадать"
   ]
  },
  {
   "cell_type": "code",
   "execution_count": 35,
   "id": "a6218206",
   "metadata": {},
   "outputs": [
    {
     "data": {
      "text/plain": [
       "True"
      ]
     },
     "execution_count": 35,
     "metadata": {},
     "output_type": "execute_result"
    }
   ],
   "source": [
    "a.shape == d.shape"
   ]
  },
  {
   "cell_type": "markdown",
   "id": "fcfa1749",
   "metadata": {},
   "source": [
    "### Умножение векторов на скаляр"
   ]
  },
  {
   "cell_type": "code",
   "execution_count": 37,
   "id": "659b754a",
   "metadata": {},
   "outputs": [],
   "source": [
    "a = np.array([5,4,8,4,3]) # Возьмем вектор а"
   ]
  },
  {
   "cell_type": "code",
   "execution_count": 38,
   "id": "a6ecb541",
   "metadata": {},
   "outputs": [
    {
     "data": {
      "text/plain": [
       "array([5, 4, 8, 4, 3])"
      ]
     },
     "execution_count": 38,
     "metadata": {},
     "output_type": "execute_result"
    }
   ],
   "source": [
    "a"
   ]
  },
  {
   "cell_type": "code",
   "execution_count": 39,
   "id": "a7ae7fa1",
   "metadata": {},
   "outputs": [
    {
     "data": {
      "text/plain": [
       "array([10,  8, 16,  8,  6])"
      ]
     },
     "execution_count": 39,
     "metadata": {},
     "output_type": "execute_result"
    }
   ],
   "source": [
    "c = a * 2 # умножим вектор а на 2\n",
    "c # и получаем вектор с"
   ]
  },
  {
   "cell_type": "markdown",
   "id": "1719b104",
   "metadata": {},
   "source": [
    "Альтернативный способ умножения массива на скаляр:"
   ]
  },
  {
   "cell_type": "code",
   "execution_count": 41,
   "id": "653a82f3",
   "metadata": {},
   "outputs": [
    {
     "data": {
      "text/plain": [
       "array([5, 4, 8, 4, 3])"
      ]
     },
     "execution_count": 41,
     "metadata": {},
     "output_type": "execute_result"
    }
   ],
   "source": [
    "a = np.array([5,4,8,4,3]) # Возьмем вектор а\n",
    "a"
   ]
  },
  {
   "cell_type": "code",
   "execution_count": 42,
   "id": "e93c474b",
   "metadata": {},
   "outputs": [
    {
     "data": {
      "text/plain": [
       "array([-50, -40, -80, -40, -30])"
      ]
     },
     "execution_count": 42,
     "metadata": {},
     "output_type": "execute_result"
    }
   ],
   "source": [
    "a.dot(-10) # Используем в качестве метода"
   ]
  },
  {
   "cell_type": "code",
   "execution_count": 43,
   "id": "3012dbae",
   "metadata": {},
   "outputs": [
    {
     "data": {
      "text/plain": [
       "array([-50, -40, -80, -40, -30])"
      ]
     },
     "execution_count": 43,
     "metadata": {},
     "output_type": "execute_result"
    }
   ],
   "source": [
    "np.dot(-10,a) # Здесь мы используем его в качестве функции"
   ]
  },
  {
   "cell_type": "code",
   "execution_count": 44,
   "id": "0dec29ff",
   "metadata": {},
   "outputs": [
    {
     "data": {
      "text/plain": [
       "array([-50, -40, -80, -40, -30])"
      ]
     },
     "execution_count": 44,
     "metadata": {},
     "output_type": "execute_result"
    }
   ],
   "source": [
    "np.multiply(-10, a)"
   ]
  },
  {
   "cell_type": "markdown",
   "id": "d1056b46",
   "metadata": {},
   "source": [
    "### Скалярное произведение векторов"
   ]
  },
  {
   "cell_type": "markdown",
   "id": "386d05b6",
   "metadata": {},
   "source": [
    "Для этого вектора должны быть одинаковой размерности"
   ]
  },
  {
   "cell_type": "code",
   "execution_count": 45,
   "id": "4dc6f84c",
   "metadata": {},
   "outputs": [],
   "source": [
    "a = np.array([1,2,3]) # Для того чтобы их перемножить, мы должны поэлементно их перемножить, \n",
    "# а потом получившиеся числа сложить\n",
    "b = np.array([4,5,6])"
   ]
  },
  {
   "cell_type": "code",
   "execution_count": 46,
   "id": "6455e708",
   "metadata": {},
   "outputs": [
    {
     "data": {
      "text/plain": [
       "(3,)"
      ]
     },
     "execution_count": 46,
     "metadata": {},
     "output_type": "execute_result"
    }
   ],
   "source": [
    "a.shape"
   ]
  },
  {
   "cell_type": "code",
   "execution_count": 47,
   "id": "366360e8",
   "metadata": {},
   "outputs": [
    {
     "data": {
      "text/plain": [
       "(3,)"
      ]
     },
     "execution_count": 47,
     "metadata": {},
     "output_type": "execute_result"
    }
   ],
   "source": [
    "b.shape"
   ]
  },
  {
   "cell_type": "code",
   "execution_count": 49,
   "id": "c316555c",
   "metadata": {},
   "outputs": [
    {
     "data": {
      "text/plain": [
       "32"
      ]
     },
     "execution_count": 49,
     "metadata": {},
     "output_type": "execute_result"
    }
   ],
   "source": [
    "sp = a[0] * b[0] + a[1] * b[1] + a[2] * b[2] # Разложим как это выглядит поэлементно\n",
    "sp"
   ]
  },
  {
   "cell_type": "markdown",
   "id": "8a0fe20d",
   "metadata": {},
   "source": [
    "В библиотеке numPy есть способ поэлегантнее, а именно использовать элемент @"
   ]
  },
  {
   "cell_type": "code",
   "execution_count": 50,
   "id": "e2adf8d1",
   "metadata": {},
   "outputs": [
    {
     "data": {
      "text/plain": [
       "32"
      ]
     },
     "execution_count": 50,
     "metadata": {},
     "output_type": "execute_result"
    }
   ],
   "source": [
    "a @ b"
   ]
  },
  {
   "cell_type": "code",
   "execution_count": 51,
   "id": "8e05c838",
   "metadata": {},
   "outputs": [],
   "source": [
    "sp = np.dot(a, b) # Способ с помощью функции dot"
   ]
  },
  {
   "cell_type": "code",
   "execution_count": 52,
   "id": "59455cdf",
   "metadata": {},
   "outputs": [
    {
     "data": {
      "text/plain": [
       "32"
      ]
     },
     "execution_count": 52,
     "metadata": {},
     "output_type": "execute_result"
    }
   ],
   "source": [
    "sp"
   ]
  },
  {
   "cell_type": "markdown",
   "id": "3ba8adf1",
   "metadata": {},
   "source": [
    "### Операции над матрицами"
   ]
  },
  {
   "cell_type": "code",
   "execution_count": 57,
   "id": "eb40c81c",
   "metadata": {},
   "outputs": [],
   "source": [
    "A = np.array([[0, 1], # Создадим матрицу А\n",
    "             [2, 3],\n",
    "             [4, 5]]"
   ]
  },
  {
   "cell_type": "code",
   "execution_count": 58,
   "id": "181bf1a5",
   "metadata": {},
   "outputs": [],
   "source": [
    "B = np.array([[6, 7], # Создадим матрицу А\n",
    "             [8, 9],\n",
    "             [10, 11]])"
   ]
  },
  {
   "cell_type": "code",
   "execution_count": 59,
   "id": "5de208d6",
   "metadata": {},
   "outputs": [
    {
     "data": {
      "text/plain": [
       "(3, 2)"
      ]
     },
     "execution_count": 59,
     "metadata": {},
     "output_type": "execute_result"
    }
   ],
   "source": [
    "A.shape # В матрицах 3 строки и 2 столбца"
   ]
  },
  {
   "cell_type": "code",
   "execution_count": 60,
   "id": "2cf3a0b2",
   "metadata": {},
   "outputs": [
    {
     "data": {
      "text/plain": [
       "(3, 2)"
      ]
     },
     "execution_count": 60,
     "metadata": {},
     "output_type": "execute_result"
    }
   ],
   "source": [
    "B.shape"
   ]
  },
  {
   "cell_type": "markdown",
   "id": "b3915cfd",
   "metadata": {},
   "source": [
    "### Сложение матриц"
   ]
  },
  {
   "cell_type": "code",
   "execution_count": 64,
   "id": "1a5a0739",
   "metadata": {},
   "outputs": [
    {
     "data": {
      "text/plain": [
       "array([[ 6,  8],\n",
       "       [10, 12],\n",
       "       [14, 16]])"
      ]
     },
     "execution_count": 64,
     "metadata": {},
     "output_type": "execute_result"
    }
   ],
   "source": [
    "C =  A + B # Но для такого сложения матрицы должны совпадать\n",
    "C"
   ]
  },
  {
   "cell_type": "markdown",
   "id": "cad23335",
   "metadata": {},
   "source": [
    "Альтернативный способ"
   ]
  },
  {
   "cell_type": "code",
   "execution_count": 65,
   "id": "a813a237",
   "metadata": {},
   "outputs": [
    {
     "data": {
      "text/plain": [
       "array([[ 6,  8],\n",
       "       [10, 12],\n",
       "       [14, 16]])"
      ]
     },
     "execution_count": 65,
     "metadata": {},
     "output_type": "execute_result"
    }
   ],
   "source": [
    "C = np.add(A, B)\n",
    "C"
   ]
  },
  {
   "cell_type": "markdown",
   "id": "8b8707f3",
   "metadata": {},
   "source": [
    "### Вычитание матриц"
   ]
  },
  {
   "cell_type": "code",
   "execution_count": 67,
   "id": "129d324d",
   "metadata": {},
   "outputs": [],
   "source": [
    "A = np.array([[11, 13], # Создадим матрицу А\n",
    "              [16, 9],\n",
    "              [8, 15]])"
   ]
  },
  {
   "cell_type": "code",
   "execution_count": 58,
   "id": "b5568100",
   "metadata": {},
   "outputs": [],
   "source": [
    "B = np.array([[6, 7], # Создадим матрицу А\n",
    "             [8, 9],\n",
    "             [10, 11]])"
   ]
  },
  {
   "cell_type": "code",
   "execution_count": 68,
   "id": "2ca4d560",
   "metadata": {},
   "outputs": [
    {
     "data": {
      "text/plain": [
       "array([[ 5,  6],\n",
       "       [ 8,  0],\n",
       "       [-2,  4]])"
      ]
     },
     "execution_count": 68,
     "metadata": {},
     "output_type": "execute_result"
    }
   ],
   "source": [
    "D = A - B\n",
    "D"
   ]
  },
  {
   "cell_type": "code",
   "execution_count": 69,
   "id": "7540b617",
   "metadata": {},
   "outputs": [
    {
     "data": {
      "text/plain": [
       "array([[ 5,  6],\n",
       "       [ 8,  0],\n",
       "       [-2,  4]])"
      ]
     },
     "execution_count": 69,
     "metadata": {},
     "output_type": "execute_result"
    }
   ],
   "source": [
    "D = np.subtract(A, B)\n",
    "D"
   ]
  },
  {
   "cell_type": "markdown",
   "id": "381cfdf1",
   "metadata": {},
   "source": [
    "### Умножение матрицы на скаляр"
   ]
  },
  {
   "cell_type": "markdown",
   "id": "c5c69ecf",
   "metadata": {},
   "source": [
    "Самый простой спозоб, это использовать умножение"
   ]
  },
  {
   "cell_type": "code",
   "execution_count": 71,
   "id": "efbb1a5d",
   "metadata": {},
   "outputs": [
    {
     "data": {
      "text/plain": [
       "array([[1, 2],\n",
       "       [3, 4]])"
      ]
     },
     "execution_count": 71,
     "metadata": {},
     "output_type": "execute_result"
    }
   ],
   "source": [
    "X = np.array([[1, 2], [3, 4]])\n",
    "X"
   ]
  },
  {
   "cell_type": "code",
   "execution_count": 73,
   "id": "5dc9a626",
   "metadata": {},
   "outputs": [
    {
     "data": {
      "text/plain": [
       "array([[ 3,  6],\n",
       "       [ 9, 12]])"
      ]
     },
     "execution_count": 73,
     "metadata": {},
     "output_type": "execute_result"
    }
   ],
   "source": [
    "Y = X * 3\n",
    "Y"
   ]
  },
  {
   "cell_type": "markdown",
   "id": "1c251d59",
   "metadata": {},
   "source": [
    "Альтернатива DOT"
   ]
  },
  {
   "cell_type": "code",
   "execution_count": 75,
   "id": "44b7b751",
   "metadata": {},
   "outputs": [
    {
     "data": {
      "text/plain": [
       "array([[ 3,  6],\n",
       "       [ 9, 12]])"
      ]
     },
     "execution_count": 75,
     "metadata": {},
     "output_type": "execute_result"
    }
   ],
   "source": [
    "Y = np.dot(X, 3)\n",
    "Y"
   ]
  },
  {
   "cell_type": "markdown",
   "id": "9d0aab01",
   "metadata": {},
   "source": [
    "### Умножение матриц"
   ]
  },
  {
   "cell_type": "code",
   "execution_count": 76,
   "id": "0d124a34",
   "metadata": {},
   "outputs": [],
   "source": [
    "X1 = np.array([[1, 2],\n",
    "               [3, 4],\n",
    "               [5, 6]])"
   ]
  },
  {
   "cell_type": "code",
   "execution_count": 77,
   "id": "03e804ba",
   "metadata": {},
   "outputs": [],
   "source": [
    "X2 = np.array([[7,8,9,10],\n",
    "               [11, 12, 13, 14]])"
   ]
  },
  {
   "cell_type": "markdown",
   "id": "5f6251a9",
   "metadata": {},
   "source": [
    "Число столбцов первой матрицы, должно равнятся числу строк второй"
   ]
  },
  {
   "cell_type": "code",
   "execution_count": 79,
   "id": "23021ced",
   "metadata": {},
   "outputs": [
    {
     "data": {
      "text/plain": [
       "True"
      ]
     },
     "execution_count": 79,
     "metadata": {},
     "output_type": "execute_result"
    }
   ],
   "source": [
    "X1.shape[1] == X2.shape[0]"
   ]
  },
  {
   "cell_type": "markdown",
   "id": "9707db2b",
   "metadata": {},
   "source": [
    "Для умножения матриц, чаще всего используют функцию dot()"
   ]
  },
  {
   "cell_type": "code",
   "execution_count": 80,
   "id": "b328d937",
   "metadata": {},
   "outputs": [
    {
     "data": {
      "text/plain": [
       "array([[ 29,  32,  35,  38],\n",
       "       [ 65,  72,  79,  86],\n",
       "       [101, 112, 123, 134]])"
      ]
     },
     "execution_count": 80,
     "metadata": {},
     "output_type": "execute_result"
    }
   ],
   "source": [
    "Z = np.dot(X1, X2)\n",
    "Z"
   ]
  },
  {
   "cell_type": "markdown",
   "id": "083ac83c",
   "metadata": {},
   "source": [
    "В результате мы получаем матрицу Z, колличество строк совпадает с колличеством строк в первой матрице, а число столбцов, такое же как число столбцов у второй. Это правило."
   ]
  },
  {
   "cell_type": "markdown",
   "id": "7eaa66d6",
   "metadata": {},
   "source": [
    "Рассмотри как получается умножение матриц\n",
    "Как получен элемент матрицы Z нулевой строки и нулевого столбца:"
   ]
  },
  {
   "cell_type": "code",
   "execution_count": 81,
   "id": "20997165",
   "metadata": {},
   "outputs": [
    {
     "data": {
      "text/plain": [
       "29"
      ]
     },
     "execution_count": 81,
     "metadata": {},
     "output_type": "execute_result"
    }
   ],
   "source": [
    "Z[0, 0]"
   ]
  },
  {
   "cell_type": "code",
   "execution_count": 82,
   "id": "5a7cbbf3",
   "metadata": {},
   "outputs": [
    {
     "data": {
      "text/plain": [
       "29"
      ]
     },
     "execution_count": 82,
     "metadata": {},
     "output_type": "execute_result"
    }
   ],
   "source": [
    "X1[0, 0] * X2[0, 0] + X1[0, 1] * X2[1, 0]"
   ]
  },
  {
   "cell_type": "markdown",
   "id": "570290b7",
   "metadata": {},
   "source": [
    "Как получен элемент матрицы Z нулевой строки и первого столбца:"
   ]
  },
  {
   "cell_type": "code",
   "execution_count": 83,
   "id": "7dbafbdf",
   "metadata": {},
   "outputs": [
    {
     "data": {
      "text/plain": [
       "32"
      ]
     },
     "execution_count": 83,
     "metadata": {},
     "output_type": "execute_result"
    }
   ],
   "source": [
    "Z[0, 1]"
   ]
  },
  {
   "cell_type": "code",
   "execution_count": 84,
   "id": "d15cb861",
   "metadata": {},
   "outputs": [
    {
     "data": {
      "text/plain": [
       "32"
      ]
     },
     "execution_count": 84,
     "metadata": {},
     "output_type": "execute_result"
    }
   ],
   "source": [
    "X1[0, 0] * X2[0, 1] + X1[0, 1] * X2[1, 1]"
   ]
  },
  {
   "cell_type": "markdown",
   "id": "89abb4a4",
   "metadata": {},
   "source": [
    "### Модуль numpy.linalg: возведение матрицы в квадрат"
   ]
  },
  {
   "cell_type": "code",
   "execution_count": 85,
   "id": "95885ea5",
   "metadata": {},
   "outputs": [],
   "source": [
    "A = np.array([[0, 1 ,2],\n",
    "             [3, 4 ,5],\n",
    "             [6, 7, 8]])"
   ]
  },
  {
   "cell_type": "markdown",
   "id": "1bfcbcff",
   "metadata": {},
   "source": [
    "Если мы возводим матрицу в квадрат, то это равносильно умножению матрицы саму на себя. При этом число строк и столбцов в матрице должно совпадать"
   ]
  },
  {
   "cell_type": "code",
   "execution_count": 87,
   "id": "c4de729e",
   "metadata": {},
   "outputs": [
    {
     "data": {
      "text/plain": [
       "array([[ 15,  18,  21],\n",
       "       [ 42,  54,  66],\n",
       "       [ 69,  90, 111]])"
      ]
     },
     "execution_count": 87,
     "metadata": {},
     "output_type": "execute_result"
    }
   ],
   "source": [
    "A_square = np.dot(A, A) #Можно использовать функцию dot\n",
    "A_square"
   ]
  },
  {
   "cell_type": "code",
   "execution_count": 88,
   "id": "6812d005",
   "metadata": {},
   "outputs": [
    {
     "data": {
      "text/plain": [
       "array([[ 15,  18,  21],\n",
       "       [ 42,  54,  66],\n",
       "       [ 69,  90, 111]])"
      ]
     },
     "execution_count": 88,
     "metadata": {},
     "output_type": "execute_result"
    }
   ],
   "source": [
    "A_square = np.linalg.matrix_power(A, 2) # А можно используюя библиотеку linalg, воспользоваться функцией matrix\n",
    "A_square"
   ]
  },
  {
   "cell_type": "markdown",
   "id": "169226c1",
   "metadata": {},
   "source": [
    "### Создание единичной матрицы"
   ]
  },
  {
   "cell_type": "markdown",
   "id": "4ec588f3",
   "metadata": {},
   "source": [
    "Единичная матрица - квадратная матрица с единицами по главной диагонали и нулями в остальных ячейках"
   ]
  },
  {
   "cell_type": "code",
   "execution_count": 89,
   "id": "65ff13fb",
   "metadata": {},
   "outputs": [
    {
     "data": {
      "text/plain": [
       "array([[1., 0., 0.],\n",
       "       [0., 1., 0.],\n",
       "       [0., 0., 1.]])"
      ]
     },
     "execution_count": 89,
     "metadata": {},
     "output_type": "execute_result"
    }
   ],
   "source": [
    "I = np.eye(3) # Еденичная матрица создается с помощью функции eye\n",
    "I"
   ]
  },
  {
   "cell_type": "markdown",
   "id": "112db114",
   "metadata": {},
   "source": [
    "При умножении любой матрицы на единичную, мы получаем ичходную матрицу"
   ]
  },
  {
   "cell_type": "code",
   "execution_count": 2,
   "id": "3f542854",
   "metadata": {},
   "outputs": [
    {
     "data": {
      "text/plain": [
       "array([[1, 2],\n",
       "       [3, 4],\n",
       "       [5, 6]])"
      ]
     },
     "execution_count": 2,
     "metadata": {},
     "output_type": "execute_result"
    }
   ],
   "source": [
    "A = np.array([[1,2], [3,4], [5,6]])\n",
    "A"
   ]
  },
  {
   "cell_type": "markdown",
   "id": "c9f0e7c8",
   "metadata": {},
   "source": [
    "Поэтому если мы ставим единичную матрицу на второе место, то ее размер должен быть 2х2"
   ]
  },
  {
   "cell_type": "code",
   "execution_count": 3,
   "id": "d1a026e3",
   "metadata": {},
   "outputs": [
    {
     "data": {
      "text/plain": [
       "array([[1., 0.],\n",
       "       [0., 1.]])"
      ]
     },
     "execution_count": 3,
     "metadata": {},
     "output_type": "execute_result"
    }
   ],
   "source": [
    "I = np.eye(2)\n",
    "I"
   ]
  },
  {
   "cell_type": "code",
   "execution_count": 4,
   "id": "315e4058",
   "metadata": {},
   "outputs": [
    {
     "data": {
      "text/plain": [
       "array([[1., 2.],\n",
       "       [3., 4.],\n",
       "       [5., 6.]])"
      ]
     },
     "execution_count": 4,
     "metadata": {},
     "output_type": "execute_result"
    }
   ],
   "source": [
    "np.dot(A, I)"
   ]
  },
  {
   "cell_type": "markdown",
   "id": "4c63c9a3",
   "metadata": {},
   "source": [
    "А если мы ее ставим на первое место, то ее размер будет 3х3"
   ]
  },
  {
   "cell_type": "code",
   "execution_count": 7,
   "id": "992a6bf6",
   "metadata": {},
   "outputs": [],
   "source": [
    "I = np.eye(3)"
   ]
  },
  {
   "cell_type": "code",
   "execution_count": 8,
   "id": "a95eccc0",
   "metadata": {},
   "outputs": [
    {
     "data": {
      "text/plain": [
       "array([[1., 2.],\n",
       "       [3., 4.],\n",
       "       [5., 6.]])"
      ]
     },
     "execution_count": 8,
     "metadata": {},
     "output_type": "execute_result"
    }
   ],
   "source": [
    "np.dot(I, A)"
   ]
  },
  {
   "cell_type": "markdown",
   "id": "e4743292",
   "metadata": {},
   "source": [
    "Иногда при умножении производят Транспонирование матрицы"
   ]
  },
  {
   "cell_type": "markdown",
   "id": "e66e50c9",
   "metadata": {},
   "source": [
    "### Транспонирование матрицы"
   ]
  },
  {
   "cell_type": "markdown",
   "id": "e48c769d",
   "metadata": {},
   "source": [
    "При этом строки матрицы становятся ее столбцами, а столбцы строками"
   ]
  },
  {
   "cell_type": "code",
   "execution_count": 10,
   "id": "403877ea",
   "metadata": {},
   "outputs": [
    {
     "data": {
      "text/plain": [
       "array([[11, 13],\n",
       "       [16,  9],\n",
       "       [ 8, 15]])"
      ]
     },
     "execution_count": 10,
     "metadata": {},
     "output_type": "execute_result"
    }
   ],
   "source": [
    "A = np.array([[11,13], [16,9], [8,15]])\n",
    "A"
   ]
  },
  {
   "cell_type": "code",
   "execution_count": 11,
   "id": "04a375ff",
   "metadata": {},
   "outputs": [
    {
     "data": {
      "text/plain": [
       "array([[11, 16,  8],\n",
       "       [13,  9, 15]])"
      ]
     },
     "execution_count": 11,
     "metadata": {},
     "output_type": "execute_result"
    }
   ],
   "source": [
    "At = np.transpose(A)\n",
    "At"
   ]
  },
  {
   "cell_type": "markdown",
   "id": "a56b2141",
   "metadata": {},
   "source": [
    "Альтернатива, использование Т"
   ]
  },
  {
   "cell_type": "code",
   "execution_count": 12,
   "id": "8c8cf8d0",
   "metadata": {},
   "outputs": [
    {
     "data": {
      "text/plain": [
       "array([[11, 16,  8],\n",
       "       [13,  9, 15]])"
      ]
     },
     "execution_count": 12,
     "metadata": {},
     "output_type": "execute_result"
    }
   ],
   "source": [
    "At = A.T\n",
    "At"
   ]
  },
  {
   "cell_type": "markdown",
   "id": "cb4e34ab",
   "metadata": {},
   "source": [
    "Рассмотрим матрицы X и Y"
   ]
  },
  {
   "cell_type": "code",
   "execution_count": 13,
   "id": "1d180492",
   "metadata": {},
   "outputs": [
    {
     "data": {
      "text/plain": [
       "array([[1, 2],\n",
       "       [3, 4],\n",
       "       [5, 6]])"
      ]
     },
     "execution_count": 13,
     "metadata": {},
     "output_type": "execute_result"
    }
   ],
   "source": [
    "X = np.array([[1,2], [3,4], [5,6]])\n",
    "X"
   ]
  },
  {
   "cell_type": "code",
   "execution_count": 14,
   "id": "3695e35b",
   "metadata": {},
   "outputs": [
    {
     "data": {
      "text/plain": [
       "array([[0, 1],\n",
       "       [3, 4],\n",
       "       [6, 7],\n",
       "       [2, 5]])"
      ]
     },
     "execution_count": 14,
     "metadata": {},
     "output_type": "execute_result"
    }
   ],
   "source": [
    "Y = np.array([[0,1], [3,4], [6,7], [2,5]])\n",
    "Y"
   ]
  },
  {
   "cell_type": "code",
   "execution_count": 15,
   "id": "b01f4635",
   "metadata": {},
   "outputs": [
    {
     "data": {
      "text/plain": [
       "array([[0, 3, 6, 2],\n",
       "       [1, 4, 7, 5]])"
      ]
     },
     "execution_count": 15,
     "metadata": {},
     "output_type": "execute_result"
    }
   ],
   "source": [
    "Yt = Y.T #Нужно транспонировать матрицу Y\n",
    "Yt"
   ]
  },
  {
   "cell_type": "markdown",
   "id": "44c526cf",
   "metadata": {},
   "source": [
    "Так как в матрице Х два столбца, а в матрице Yt две строки, мы их можем перемножить"
   ]
  },
  {
   "cell_type": "code",
   "execution_count": 16,
   "id": "7937c410",
   "metadata": {},
   "outputs": [
    {
     "data": {
      "text/plain": [
       "array([[ 2, 11, 20, 12],\n",
       "       [ 4, 25, 46, 26],\n",
       "       [ 6, 39, 72, 40]])"
      ]
     },
     "execution_count": 16,
     "metadata": {},
     "output_type": "execute_result"
    }
   ],
   "source": [
    "np.dot(X, Yt)"
   ]
  },
  {
   "cell_type": "markdown",
   "id": "1bc4de98",
   "metadata": {},
   "source": [
    "### Вычисление опеределителя и ранга матрицы"
   ]
  },
  {
   "cell_type": "markdown",
   "id": "f9fe6810",
   "metadata": {},
   "source": [
    " Ранг матрицы говорит какое колличество строк или столбцов, является в данной матрице линейно независимыми"
   ]
  },
  {
   "cell_type": "code",
   "execution_count": 18,
   "id": "a8689980",
   "metadata": {},
   "outputs": [
    {
     "data": {
      "text/plain": [
       "array([[0, 1, 2],\n",
       "       [3, 4, 5],\n",
       "       [6, 7, 8]])"
      ]
     },
     "execution_count": 18,
     "metadata": {},
     "output_type": "execute_result"
    }
   ],
   "source": [
    "A = np.array([[0,1,2], [3,4,5], [6,7,8]])\n",
    "A"
   ]
  },
  {
   "cell_type": "code",
   "execution_count": 19,
   "id": "8db6bdd4",
   "metadata": {},
   "outputs": [
    {
     "data": {
      "text/plain": [
       "0.0"
      ]
     },
     "execution_count": 19,
     "metadata": {},
     "output_type": "execute_result"
    }
   ],
   "source": [
    " np.linalg.det(A) # В этой матрице, определитель равен нулю"
   ]
  },
  {
   "cell_type": "code",
   "execution_count": 20,
   "id": "a2517b54",
   "metadata": {},
   "outputs": [
    {
     "data": {
      "text/plain": [
       "2"
      ]
     },
     "execution_count": 20,
     "metadata": {},
     "output_type": "execute_result"
    }
   ],
   "source": [
    "np.linalg.matrix_rank(A) # А ранг равен 2 это меньше чем число строк или столбцов в данной матрице"
   ]
  },
  {
   "cell_type": "markdown",
   "id": "e6667ed2",
   "metadata": {},
   "source": [
    "Пример 2 "
   ]
  },
  {
   "cell_type": "code",
   "execution_count": 21,
   "id": "a644b6f0",
   "metadata": {},
   "outputs": [
    {
     "data": {
      "text/plain": [
       "array([[ 7,  4,  5],\n",
       "       [ 8,  3,  2],\n",
       "       [ 6, 10, 12]])"
      ]
     },
     "execution_count": 21,
     "metadata": {},
     "output_type": "execute_result"
    }
   ],
   "source": [
    "B = np.array([[7,4,5], [8,3,2], [6,10,12]])\n",
    "B"
   ]
  },
  {
   "cell_type": "code",
   "execution_count": 22,
   "id": "bbffa082",
   "metadata": {},
   "outputs": [
    {
     "data": {
      "text/plain": [
       "85.99999999999989"
      ]
     },
     "execution_count": 22,
     "metadata": {},
     "output_type": "execute_result"
    }
   ],
   "source": [
    "np.linalg.det(B)"
   ]
  },
  {
   "cell_type": "code",
   "execution_count": 23,
   "id": "02fc543d",
   "metadata": {},
   "outputs": [
    {
     "data": {
      "text/plain": [
       "3"
      ]
     },
     "execution_count": 23,
     "metadata": {},
     "output_type": "execute_result"
    }
   ],
   "source": [
    "np.linalg.matrix_rank(B)"
   ]
  },
  {
   "cell_type": "markdown",
   "id": "17855b6b",
   "metadata": {},
   "source": [
    "пример 3 Можно узнать только ранг, но не определитель, так как она не квадратная"
   ]
  },
  {
   "cell_type": "code",
   "execution_count": 24,
   "id": "2c3cd386",
   "metadata": {},
   "outputs": [
    {
     "data": {
      "text/plain": [
       "array([[1, 2],\n",
       "       [3, 4],\n",
       "       [5, 6]])"
      ]
     },
     "execution_count": 24,
     "metadata": {},
     "output_type": "execute_result"
    }
   ],
   "source": [
    "C = np.array([[1,2], [3,4], [5,6]])\n",
    "C"
   ]
  },
  {
   "cell_type": "code",
   "execution_count": 25,
   "id": "04da290c",
   "metadata": {},
   "outputs": [
    {
     "data": {
      "text/plain": [
       "2"
      ]
     },
     "execution_count": 25,
     "metadata": {},
     "output_type": "execute_result"
    }
   ],
   "source": [
    "np.linalg.matrix_rank(C)"
   ]
  },
  {
   "cell_type": "markdown",
   "id": "01cf1e4f",
   "metadata": {},
   "source": [
    "Мы не можем вычислить определитель, зато мы можем вычислить ранг"
   ]
  },
  {
   "cell_type": "markdown",
   "id": "910f53f6",
   "metadata": {},
   "source": [
    "### Вычисление обратной матрицы"
   ]
  },
  {
   "cell_type": "markdown",
   "id": "e972e8d7",
   "metadata": {},
   "source": [
    " Обратная матрица, это такая матрица, которая при умножении на исходную матрицу, дает единичную матрицу"
   ]
  },
  {
   "cell_type": "code",
   "execution_count": 21,
   "id": "1da0c86e",
   "metadata": {},
   "outputs": [
    {
     "data": {
      "text/plain": [
       "array([[ 7,  4,  5],\n",
       "       [ 8,  3,  2],\n",
       "       [ 6, 10, 12]])"
      ]
     },
     "execution_count": 21,
     "metadata": {},
     "output_type": "execute_result"
    }
   ],
   "source": [
    "B = np.array([[7,4,5], [8,3,2], [6,10,12]])\n",
    "B"
   ]
  },
  {
   "cell_type": "markdown",
   "id": "17b9b3d2",
   "metadata": {},
   "source": [
    "Воспользуемся функцией инф из linalg"
   ]
  },
  {
   "cell_type": "code",
   "execution_count": 26,
   "id": "7881cd09",
   "metadata": {},
   "outputs": [
    {
     "data": {
      "text/plain": [
       "array([[ 0.18604651,  0.02325581, -0.08139535],\n",
       "       [-0.97674419,  0.62790698,  0.30232558],\n",
       "       [ 0.72093023, -0.53488372, -0.12790698]])"
      ]
     },
     "execution_count": 26,
     "metadata": {},
     "output_type": "execute_result"
    }
   ],
   "source": [
    "B_inv = np.linalg.inv(B)\n",
    "B_inv"
   ]
  },
  {
   "cell_type": "markdown",
   "id": "d33f9514",
   "metadata": {},
   "source": [
    "Мы получили обратную функцию В"
   ]
  },
  {
   "cell_type": "markdown",
   "id": "e3491ffa",
   "metadata": {},
   "source": [
    " Если мы еще раз посчитаем обратную матрицу, то получим исходную"
   ]
  },
  {
   "cell_type": "code",
   "execution_count": 27,
   "id": "9b687d91",
   "metadata": {},
   "outputs": [
    {
     "data": {
      "text/plain": [
       "array([[ 7.,  4.,  5.],\n",
       "       [ 8.,  3.,  2.],\n",
       "       [ 6., 10., 12.]])"
      ]
     },
     "execution_count": 27,
     "metadata": {},
     "output_type": "execute_result"
    }
   ],
   "source": [
    "B_inv2 = np.linalg.inv(B_inv)\n",
    "B_inv2"
   ]
  },
  {
   "cell_type": "markdown",
   "id": "89bd56b8",
   "metadata": {},
   "source": [
    "## Автоматическое создание массивов"
   ]
  },
  {
   "cell_type": "markdown",
   "id": "b4092759",
   "metadata": {},
   "source": [
    "С помощь функции zerro() можно создавать массивы, наполненые нулями"
   ]
  },
  {
   "cell_type": "code",
   "execution_count": 33,
   "id": "bce6b405",
   "metadata": {},
   "outputs": [
    {
     "data": {
      "text/plain": [
       "array([[0., 0., 0., 0.],\n",
       "       [0., 0., 0., 0.],\n",
       "       [0., 0., 0., 0.]])"
      ]
     },
     "execution_count": 33,
     "metadata": {},
     "output_type": "execute_result"
    }
   ],
   "source": [
    "a = np.zeros((3,4)) # Массив из трех строк и 4 столбцов\n",
    "a"
   ]
  },
  {
   "cell_type": "markdown",
   "id": "66864e4e",
   "metadata": {},
   "source": [
    "С помощью функции ones() можно создавать массивы из единиц"
   ]
  },
  {
   "cell_type": "code",
   "execution_count": 34,
   "id": "44e0af60",
   "metadata": {},
   "outputs": [
    {
     "data": {
      "text/plain": [
       "array([[1., 1., 1.],\n",
       "       [1., 1., 1.],\n",
       "       [1., 1., 1.],\n",
       "       [1., 1., 1.],\n",
       "       [1., 1., 1.]])"
      ]
     },
     "execution_count": 34,
     "metadata": {},
     "output_type": "execute_result"
    }
   ],
   "source": [
    "a = np.ones((5, 3))\n",
    "a"
   ]
  },
  {
   "cell_type": "markdown",
   "id": "d293dc82",
   "metadata": {},
   "source": [
    "Последовательности чисел можно создавать с помощью функции arange()"
   ]
  },
  {
   "cell_type": "code",
   "execution_count": 35,
   "id": "687afb7e",
   "metadata": {},
   "outputs": [
    {
     "data": {
      "text/plain": [
       "array([0, 1, 2, 3, 4, 5, 6, 7, 8, 9])"
      ]
     },
     "execution_count": 35,
     "metadata": {},
     "output_type": "execute_result"
    }
   ],
   "source": [
    "np.arange(10)"
   ]
  },
  {
   "cell_type": "markdown",
   "id": "7409659f",
   "metadata": {},
   "source": [
    "по умолчанию ряд чисел начинается с нуля, но можно явно задать начало последовательности"
   ]
  },
  {
   "cell_type": "code",
   "execution_count": 36,
   "id": "15e7efe1",
   "metadata": {},
   "outputs": [
    {
     "data": {
      "text/plain": [
       "array([0, 1, 2, 3, 4, 5, 6, 7, 8, 9])"
      ]
     },
     "execution_count": 36,
     "metadata": {},
     "output_type": "execute_result"
    }
   ],
   "source": [
    "np.arange(0,10)"
   ]
  },
  {
   "cell_type": "markdown",
   "id": "bc8a5138",
   "metadata": {},
   "source": [
    "Последовательность с шагом 2"
   ]
  },
  {
   "cell_type": "code",
   "execution_count": 37,
   "id": "82bd5d15",
   "metadata": {},
   "outputs": [
    {
     "data": {
      "text/plain": [
       "array([0, 2, 4, 6, 8])"
      ]
     },
     "execution_count": 37,
     "metadata": {},
     "output_type": "execute_result"
    }
   ],
   "source": [
    "np.arange(0,10,2)"
   ]
  },
  {
   "cell_type": "markdown",
   "id": "0b0fd7e0",
   "metadata": {},
   "source": [
    "В обратном порядке с отрицательным числом"
   ]
  },
  {
   "cell_type": "code",
   "execution_count": 39,
   "id": "5f282d96",
   "metadata": {},
   "outputs": [
    {
     "data": {
      "text/plain": [
       "array([10,  9,  8,  7,  6,  5,  4,  3,  2,  1])"
      ]
     },
     "execution_count": 39,
     "metadata": {},
     "output_type": "execute_result"
    }
   ],
   "source": [
    "np.arange(10,0,-1)"
   ]
  },
  {
   "cell_type": "markdown",
   "id": "85af86eb",
   "metadata": {},
   "source": [
    "дробный шаг:"
   ]
  },
  {
   "cell_type": "code",
   "execution_count": 40,
   "id": "317391e3",
   "metadata": {},
   "outputs": [
    {
     "data": {
      "text/plain": [
       "array([0. , 0.1, 0.2, 0.3, 0.4, 0.5, 0.6, 0.7, 0.8, 0.9, 1. , 1.1, 1.2,\n",
       "       1.3, 1.4, 1.5, 1.6, 1.7, 1.8, 1.9, 2. , 2.1, 2.2, 2.3, 2.4, 2.5,\n",
       "       2.6, 2.7, 2.8, 2.9, 3. , 3.1, 3.2, 3.3, 3.4, 3.5, 3.6, 3.7, 3.8,\n",
       "       3.9, 4. , 4.1, 4.2, 4.3, 4.4, 4.5, 4.6, 4.7, 4.8, 4.9, 5. , 5.1,\n",
       "       5.2, 5.3, 5.4, 5.5, 5.6, 5.7, 5.8, 5.9, 6. , 6.1, 6.2, 6.3, 6.4,\n",
       "       6.5, 6.6, 6.7, 6.8, 6.9, 7. , 7.1, 7.2, 7.3, 7.4, 7.5, 7.6, 7.7,\n",
       "       7.8, 7.9, 8. , 8.1, 8.2, 8.3, 8.4, 8.5, 8.6, 8.7, 8.8, 8.9, 9. ,\n",
       "       9.1, 9.2, 9.3, 9.4, 9.5, 9.6, 9.7, 9.8, 9.9])"
      ]
     },
     "execution_count": 40,
     "metadata": {},
     "output_type": "execute_result"
    }
   ],
   "source": [
    "np.arange(0,10,0.1)"
   ]
  },
  {
   "cell_type": "markdown",
   "id": "1369f3d3",
   "metadata": {},
   "source": [
    "numpy.linspace- тоже самое, но нужно учитывать что правая граница(9,9) будет включена. \n",
    "Вместо шага указываем нужное число элементов"
   ]
  },
  {
   "cell_type": "code",
   "execution_count": 41,
   "id": "c8f89329",
   "metadata": {},
   "outputs": [
    {
     "data": {
      "text/plain": [
       "array([0. , 0.1, 0.2, 0.3, 0.4, 0.5, 0.6, 0.7, 0.8, 0.9, 1. , 1.1, 1.2,\n",
       "       1.3, 1.4, 1.5, 1.6, 1.7, 1.8, 1.9, 2. , 2.1, 2.2, 2.3, 2.4, 2.5,\n",
       "       2.6, 2.7, 2.8, 2.9, 3. , 3.1, 3.2, 3.3, 3.4, 3.5, 3.6, 3.7, 3.8,\n",
       "       3.9, 4. , 4.1, 4.2, 4.3, 4.4, 4.5, 4.6, 4.7, 4.8, 4.9, 5. , 5.1,\n",
       "       5.2, 5.3, 5.4, 5.5, 5.6, 5.7, 5.8, 5.9, 6. , 6.1, 6.2, 6.3, 6.4,\n",
       "       6.5, 6.6, 6.7, 6.8, 6.9, 7. , 7.1, 7.2, 7.3, 7.4, 7.5, 7.6, 7.7,\n",
       "       7.8, 7.9, 8. , 8.1, 8.2, 8.3, 8.4, 8.5, 8.6, 8.7, 8.8, 8.9, 9. ,\n",
       "       9.1, 9.2, 9.3, 9.4, 9.5, 9.6, 9.7, 9.8, 9.9])"
      ]
     },
     "execution_count": 41,
     "metadata": {},
     "output_type": "execute_result"
    }
   ],
   "source": [
    "np.linspace(0, 9.9, 100)"
   ]
  },
  {
   "cell_type": "markdown",
   "id": "0b957980",
   "metadata": {},
   "source": [
    "Мы получаем 100 элементов"
   ]
  },
  {
   "cell_type": "markdown",
   "id": "fb74804c",
   "metadata": {},
   "source": [
    "numpy.logspace() - тоже самое. Обе границы также включены, но это не сами числа, а степени числа 10 "
   ]
  },
  {
   "cell_type": "code",
   "execution_count": 42,
   "id": "65dbbd07",
   "metadata": {},
   "outputs": [
    {
     "data": {
      "text/plain": [
       "array([   1.,   10.,  100., 1000.])"
      ]
     },
     "execution_count": 42,
     "metadata": {},
     "output_type": "execute_result"
    }
   ],
   "source": [
    "np.logspace(0,3,4)"
   ]
  },
  {
   "cell_type": "markdown",
   "id": "48f7f7a2",
   "metadata": {},
   "source": [
    "### Генерация случайных чисел"
   ]
  },
  {
   "cell_type": "markdown",
   "id": "58c08db6",
   "metadata": {},
   "source": [
    "**numpy.random.sample** - случайные числа с равномерным распределением [0.0, 1.0]"
   ]
  },
  {
   "cell_type": "markdown",
   "id": "d601028a",
   "metadata": {},
   "source": [
    "Случайное число:"
   ]
  },
  {
   "cell_type": "code",
   "execution_count": 44,
   "id": "763ed705",
   "metadata": {},
   "outputs": [
    {
     "data": {
      "text/plain": [
       "0.7926484620367372"
      ]
     },
     "execution_count": 44,
     "metadata": {},
     "output_type": "execute_result"
    }
   ],
   "source": [
    "np.random.sample()"
   ]
  },
  {
   "cell_type": "markdown",
   "id": "6dd4a9b3",
   "metadata": {},
   "source": [
    "Одномерный массив из трех чисел:"
   ]
  },
  {
   "cell_type": "code",
   "execution_count": 45,
   "id": "030ea613",
   "metadata": {},
   "outputs": [
    {
     "data": {
      "text/plain": [
       "array([0.9020597 , 0.60863143, 0.19765304])"
      ]
     },
     "execution_count": 45,
     "metadata": {},
     "output_type": "execute_result"
    }
   ],
   "source": [
    "np.random.sample(3)"
   ]
  },
  {
   "cell_type": "markdown",
   "id": "86c9aa74",
   "metadata": {},
   "source": [
    "Двумерный массив:"
   ]
  },
  {
   "cell_type": "code",
   "execution_count": 47,
   "id": "9e3c73f2",
   "metadata": {},
   "outputs": [
    {
     "data": {
      "text/plain": [
       "array([[0.16432927, 0.97759775, 0.84794765],\n",
       "       [0.64728639, 0.1547308 , 0.85521276]])"
      ]
     },
     "execution_count": 47,
     "metadata": {},
     "output_type": "execute_result"
    }
   ],
   "source": [
    "np.random.sample((2,3))"
   ]
  },
  {
   "cell_type": "markdown",
   "id": "5436b0a2",
   "metadata": {},
   "source": [
    "Массив 48 х 64 х 3\n",
    "Может использоваться для случайных изображений размером с высотой 48, шириной 64 и плотностью трех цветов на каждый пиксель\n"
   ]
  },
  {
   "cell_type": "code",
   "execution_count": 50,
   "id": "f617f9fe",
   "metadata": {},
   "outputs": [
    {
     "data": {
      "text/plain": [
       "array([[[0.3294636 , 0.18059731, 0.65500714],\n",
       "        [0.18442434, 0.44726414, 0.43289204],\n",
       "        [0.89843569, 0.45533931, 0.47535029],\n",
       "        ...,\n",
       "        [0.70220309, 0.83217478, 0.6925364 ],\n",
       "        [0.14054951, 0.20978237, 0.68627304],\n",
       "        [0.42960076, 0.88026488, 0.95709945]],\n",
       "\n",
       "       [[0.5802953 , 0.24162651, 0.58731539],\n",
       "        [0.67869902, 0.14420663, 0.94540906],\n",
       "        [0.59129993, 0.64958914, 0.16062806],\n",
       "        ...,\n",
       "        [0.89933435, 0.3608828 , 0.73137079],\n",
       "        [0.5061529 , 0.23172005, 0.4268986 ],\n",
       "        [0.89608344, 0.77746056, 0.19295753]],\n",
       "\n",
       "       [[0.8023616 , 0.1589207 , 0.82004672],\n",
       "        [0.037853  , 0.95220469, 0.93389339],\n",
       "        [0.10893132, 0.0615372 , 0.6331734 ],\n",
       "        ...,\n",
       "        [0.98304245, 0.73173811, 0.52981496],\n",
       "        [0.25526242, 0.05081905, 0.92620518],\n",
       "        [0.95119777, 0.64142964, 0.9319433 ]],\n",
       "\n",
       "       ...,\n",
       "\n",
       "       [[0.04510363, 0.3051459 , 0.02673561],\n",
       "        [0.89889185, 0.27976051, 0.08004378],\n",
       "        [0.09232157, 0.78076853, 0.66416301],\n",
       "        ...,\n",
       "        [0.91804691, 0.62190693, 0.9064143 ],\n",
       "        [0.91771523, 0.88715401, 0.83232773],\n",
       "        [0.75548735, 0.70321999, 0.57393164]],\n",
       "\n",
       "       [[0.28827068, 0.37475556, 0.62397386],\n",
       "        [0.18240853, 0.19435979, 0.09861045],\n",
       "        [0.14193918, 0.06679127, 0.54674392],\n",
       "        ...,\n",
       "        [0.42274044, 0.79816832, 0.18716138],\n",
       "        [0.08838628, 0.97653274, 0.89513599],\n",
       "        [0.95689829, 0.40560695, 0.35612192]],\n",
       "\n",
       "       [[0.4780687 , 0.99180154, 0.7678413 ],\n",
       "        [0.96637255, 0.04184239, 0.42904143],\n",
       "        [0.99841523, 0.93904064, 0.28507555],\n",
       "        ...,\n",
       "        [0.30354566, 0.3294103 , 0.21318136],\n",
       "        [0.77448177, 0.89573708, 0.12537104],\n",
       "        [0.31647044, 0.81631829, 0.24928062]]])"
      ]
     },
     "execution_count": 50,
     "metadata": {},
     "output_type": "execute_result"
    }
   ],
   "source": [
    "np.random.sample((48,64,3))"
   ]
  },
  {
   "cell_type": "markdown",
   "id": "66dd8edc",
   "metadata": {},
   "source": [
    "**numpy.random.randn()** - нормальные числа с нормальным распределением\n",
    "(среднее значение = 0, среднеквадратичное отклонение = 1)"
   ]
  },
  {
   "cell_type": "code",
   "execution_count": 51,
   "id": "e6c49e64",
   "metadata": {},
   "outputs": [
    {
     "data": {
      "text/plain": [
       "array([-0.7356377 ,  0.54187678,  0.20224982,  1.11319532,  1.50661578,\n",
       "        0.92442841, -0.79240259, -0.63554291, -0.54048455, -0.03089959])"
      ]
     },
     "execution_count": 51,
     "metadata": {},
     "output_type": "execute_result"
    }
   ],
   "source": [
    "np.random.randn(10)"
   ]
  },
  {
   "cell_type": "code",
   "execution_count": 52,
   "id": "2252dbd5",
   "metadata": {},
   "outputs": [
    {
     "data": {
      "text/plain": [
       "array([[-1.96018442,  0.61800092, -0.22664581,  1.57060714],\n",
       "       [-1.46676385, -0.10792063,  2.47999786,  3.33145039],\n",
       "       [-0.59776667,  1.62381343, -0.98883095, -2.34757744]])"
      ]
     },
     "execution_count": 52,
     "metadata": {},
     "output_type": "execute_result"
    }
   ],
   "source": [
    "np.random.randn(3, 4)"
   ]
  },
  {
   "cell_type": "markdown",
   "id": "2d0dfba6",
   "metadata": {},
   "source": [
    " **numpy.random.randint** - массив из целых чисел\n",
    " Например одномерный массив из 10 случайных чисел в промежутке [0, 100]"
   ]
  },
  {
   "cell_type": "code",
   "execution_count": 53,
   "id": "a98662c9",
   "metadata": {},
   "outputs": [
    {
     "data": {
      "text/plain": [
       "array([ 1, 12, 54, 12, 81, 56, 57, 31,  5, 40])"
      ]
     },
     "execution_count": 53,
     "metadata": {},
     "output_type": "execute_result"
    }
   ],
   "source": [
    "np.random.randint(0,100,10)# 0,100 - интервалб 10 - сколько чисел нужно"
   ]
  },
  {
   "cell_type": "markdown",
   "id": "b4516d76",
   "metadata": {},
   "source": [
    " Двумерный массив 3х4 из случайных чисел в промежутке 0, 10"
   ]
  },
  {
   "cell_type": "code",
   "execution_count": 55,
   "id": "ce95c7df",
   "metadata": {},
   "outputs": [
    {
     "data": {
      "text/plain": [
       "array([[9, 7, 5, 0],\n",
       "       [7, 6, 7, 0],\n",
       "       [4, 3, 9, 9]])"
      ]
     },
     "execution_count": 55,
     "metadata": {},
     "output_type": "execute_result"
    }
   ],
   "source": [
    "np.random.randint(0, 10, (3,4)) "
   ]
  },
  {
   "cell_type": "markdown",
   "id": "065251c0",
   "metadata": {},
   "source": [
    "**numpy.random.choice** - получаем случайные элементы из массива"
   ]
  },
  {
   "cell_type": "code",
   "execution_count": 56,
   "id": "b48af3d5",
   "metadata": {},
   "outputs": [],
   "source": [
    "b = np.array([1,5,2,7,3,8,6,4])"
   ]
  },
  {
   "cell_type": "code",
   "execution_count": 57,
   "id": "eb934c1f",
   "metadata": {},
   "outputs": [
    {
     "data": {
      "text/plain": [
       "5"
      ]
     },
     "execution_count": 57,
     "metadata": {},
     "output_type": "execute_result"
    }
   ],
   "source": [
    "np.random.choice(b)"
   ]
  },
  {
   "cell_type": "code",
   "execution_count": 59,
   "id": "7e15d434",
   "metadata": {},
   "outputs": [
    {
     "data": {
      "text/plain": [
       "array([1, 4, 5, 4])"
      ]
     },
     "execution_count": 59,
     "metadata": {},
     "output_type": "execute_result"
    }
   ],
   "source": [
    " np.random.choice(b, 4) # Получаем определенное колличество этих псевдослучайных чисел"
   ]
  },
  {
   "cell_type": "markdown",
   "id": "0e148407",
   "metadata": {},
   "source": [
    "**numpy.random.seed** - инициализация генератора случаных чисел\n",
    "Могут использоваться для последующей воспроизводимости(будут генерироваться те же числа, если устоновить одинаковый seed)"
   ]
  },
  {
   "cell_type": "code",
   "execution_count": 60,
   "id": "dc34fc29",
   "metadata": {},
   "outputs": [],
   "source": [
    "np.random.seed(42)"
   ]
  },
  {
   "cell_type": "code",
   "execution_count": 63,
   "id": "411a9820",
   "metadata": {},
   "outputs": [
    {
     "data": {
      "text/plain": [
       "array([2, 6, 7])"
      ]
     },
     "execution_count": 63,
     "metadata": {},
     "output_type": "execute_result"
    }
   ],
   "source": [
    "np.random.randint(0,10,3)"
   ]
  },
  {
   "cell_type": "markdown",
   "id": "637c912c",
   "metadata": {},
   "source": [
    "### Изменение формы массива"
   ]
  },
  {
   "cell_type": "code",
   "execution_count": 64,
   "id": "c6fa0cee",
   "metadata": {},
   "outputs": [
    {
     "data": {
      "text/plain": [
       "array([ 0,  1,  2,  3,  4,  5,  6,  7,  8,  9, 10, 11])"
      ]
     },
     "execution_count": 64,
     "metadata": {},
     "output_type": "execute_result"
    }
   ],
   "source": [
    "a = np.arange(12)\n",
    "a"
   ]
  },
  {
   "cell_type": "markdown",
   "id": "3b781896",
   "metadata": {},
   "source": [
    "Если нам нужен из этого **двумерный массив**, то мы используем функцию reshape"
   ]
  },
  {
   "cell_type": "code",
   "execution_count": 66,
   "id": "466c9e94",
   "metadata": {},
   "outputs": [
    {
     "data": {
      "text/plain": [
       "array([[ 0,  1,  2,  3],\n",
       "       [ 4,  5,  6,  7],\n",
       "       [ 8,  9, 10, 11]])"
      ]
     },
     "execution_count": 66,
     "metadata": {},
     "output_type": "execute_result"
    }
   ],
   "source": [
    "a.reshape(3,4) # Получаем двумерный массив из 3 строк и 4 столбцов"
   ]
  },
  {
   "cell_type": "markdown",
   "id": "bd138063",
   "metadata": {},
   "source": [
    "Если мы знаем какое число строк нам нужно получить, но не знаем какое колличество столбцов получится, то:"
   ]
  },
  {
   "cell_type": "code",
   "execution_count": 67,
   "id": "b299e226",
   "metadata": {},
   "outputs": [
    {
     "data": {
      "text/plain": [
       "array([ 0,  1,  2,  3,  4,  5,  6,  7,  8,  9, 10, 11])"
      ]
     },
     "execution_count": 67,
     "metadata": {},
     "output_type": "execute_result"
    }
   ],
   "source": [
    "a"
   ]
  },
  {
   "cell_type": "code",
   "execution_count": 70,
   "id": "2300ce5d",
   "metadata": {},
   "outputs": [
    {
     "data": {
      "text/plain": [
       "array([[ 0,  1,  2,  3],\n",
       "       [ 4,  5,  6,  7],\n",
       "       [ 8,  9, 10, 11]])"
      ]
     },
     "execution_count": 70,
     "metadata": {},
     "output_type": "execute_result"
    }
   ],
   "source": [
    "# Можно указать требуемое число строк, а вместо столбцов поставить -1\n",
    "np.reshape(a, (3, -1))"
   ]
  },
  {
   "cell_type": "code",
   "execution_count": 72,
   "id": "fd981527",
   "metadata": {},
   "outputs": [
    {
     "data": {
      "text/plain": [
       "array([[ 0,  1,  2,  3],\n",
       "       [ 4,  5,  6,  7],\n",
       "       [ 8,  9, 10, 11]])"
      ]
     },
     "execution_count": 72,
     "metadata": {},
     "output_type": "execute_result"
    }
   ],
   "source": [
    "# Или наоборот -1 поставить в количество строк, а колличество столбцов указать нам необходимое\n",
    "np.reshape(a, (-1, 4))"
   ]
  },
  {
   "cell_type": "code",
   "execution_count": 73,
   "id": "6106a12d",
   "metadata": {},
   "outputs": [
    {
     "data": {
      "text/plain": [
       "array([ 0,  1,  2,  3,  4,  5,  6,  7,  8,  9, 10, 11])"
      ]
     },
     "execution_count": 73,
     "metadata": {},
     "output_type": "execute_result"
    }
   ],
   "source": [
    "a"
   ]
  },
  {
   "cell_type": "markdown",
   "id": "54d8f643",
   "metadata": {},
   "source": [
    "Так же есть функция которая меняем массив на месте **inplase**"
   ]
  },
  {
   "cell_type": "code",
   "execution_count": 74,
   "id": "2660fef5",
   "metadata": {},
   "outputs": [],
   "source": [
    "a.resize(3,4) # Если мы ее применим, то массив поменяет форму"
   ]
  },
  {
   "cell_type": "code",
   "execution_count": 75,
   "id": "60de726f",
   "metadata": {},
   "outputs": [
    {
     "data": {
      "text/plain": [
       "array([[ 0,  1,  2,  3],\n",
       "       [ 4,  5,  6,  7],\n",
       "       [ 8,  9, 10, 11]])"
      ]
     },
     "execution_count": 75,
     "metadata": {},
     "output_type": "execute_result"
    }
   ],
   "source": [
    "a"
   ]
  },
  {
   "cell_type": "markdown",
   "id": "954f945c",
   "metadata": {},
   "source": [
    "Получить из многомерного, одномерный массив можно с помощью функции **flatten**"
   ]
  },
  {
   "cell_type": "code",
   "execution_count": 76,
   "id": "10a1969f",
   "metadata": {},
   "outputs": [],
   "source": [
    "a = a.flatten()"
   ]
  },
  {
   "cell_type": "code",
   "execution_count": 77,
   "id": "2890f6f6",
   "metadata": {},
   "outputs": [
    {
     "data": {
      "text/plain": [
       "array([ 0,  1,  2,  3,  4,  5,  6,  7,  8,  9, 10, 11])"
      ]
     },
     "execution_count": 77,
     "metadata": {},
     "output_type": "execute_result"
    }
   ],
   "source": [
    "a"
   ]
  },
  {
   "cell_type": "markdown",
   "id": "5c00c2f0",
   "metadata": {},
   "source": [
    "### Соединение массивов"
   ]
  },
  {
   "cell_type": "markdown",
   "id": "2984a271",
   "metadata": {},
   "source": [
    "Для наглядности возьмем два массива с нулями и единицами"
   ]
  },
  {
   "cell_type": "code",
   "execution_count": 80,
   "id": "80b5e2e3",
   "metadata": {},
   "outputs": [
    {
     "data": {
      "text/plain": [
       "array([[0., 0., 0.],\n",
       "       [0., 0., 0.]])"
      ]
     },
     "execution_count": 80,
     "metadata": {},
     "output_type": "execute_result"
    }
   ],
   "source": [
    "a = np.zeros((2,3))\n",
    "a"
   ]
  },
  {
   "cell_type": "code",
   "execution_count": 82,
   "id": "69131a0d",
   "metadata": {},
   "outputs": [
    {
     "data": {
      "text/plain": [
       "array([[1., 1., 1.],\n",
       "       [1., 1., 1.]])"
      ]
     },
     "execution_count": 82,
     "metadata": {},
     "output_type": "execute_result"
    }
   ],
   "source": [
    "b = np.ones((2,3))\n",
    "b"
   ]
  },
  {
   "cell_type": "markdown",
   "id": "2f5ca8ab",
   "metadata": {},
   "source": [
    "Соединение строк **вертикально**"
   ]
  },
  {
   "cell_type": "code",
   "execution_count": 83,
   "id": "6d89373c",
   "metadata": {},
   "outputs": [],
   "source": [
    "v = np.vstack((a,b))"
   ]
  },
  {
   "cell_type": "code",
   "execution_count": 84,
   "id": "da7bbfa3",
   "metadata": {},
   "outputs": [
    {
     "data": {
      "text/plain": [
       "array([[0., 0., 0.],\n",
       "       [0., 0., 0.],\n",
       "       [1., 1., 1.],\n",
       "       [1., 1., 1.]])"
      ]
     },
     "execution_count": 84,
     "metadata": {},
     "output_type": "execute_result"
    }
   ],
   "source": [
    "v"
   ]
  },
  {
   "cell_type": "code",
   "execution_count": 85,
   "id": "19f06e0b",
   "metadata": {},
   "outputs": [
    {
     "data": {
      "text/plain": [
       "((2, 3), (2, 3), (4, 3))"
      ]
     },
     "execution_count": 85,
     "metadata": {},
     "output_type": "execute_result"
    }
   ],
   "source": [
    "a.shape, b.shape, v.shape"
   ]
  },
  {
   "cell_type": "markdown",
   "id": "0766c8e0",
   "metadata": {},
   "source": [
    "Так же можно это получить с помощью функции **concatenate**\n",
    "При этом мы должны указать ось по которой мы хотим соединить "
   ]
  },
  {
   "cell_type": "code",
   "execution_count": 86,
   "id": "b4f39b5f",
   "metadata": {},
   "outputs": [
    {
     "data": {
      "text/plain": [
       "array([[0., 0., 0.],\n",
       "       [0., 0., 0.],\n",
       "       [1., 1., 1.],\n",
       "       [1., 1., 1.]])"
      ]
     },
     "execution_count": 86,
     "metadata": {},
     "output_type": "execute_result"
    }
   ],
   "source": [
    "np.concatenate((a,b), axis = 0)"
   ]
  },
  {
   "cell_type": "markdown",
   "id": "70ea16d0",
   "metadata": {},
   "source": [
    "Соединение столбцов **горизонтально**"
   ]
  },
  {
   "cell_type": "code",
   "execution_count": 87,
   "id": "4311f639",
   "metadata": {},
   "outputs": [
    {
     "data": {
      "text/plain": [
       "array([[0., 0., 0., 1., 1., 1.],\n",
       "       [0., 0., 0., 1., 1., 1.]])"
      ]
     },
     "execution_count": 87,
     "metadata": {},
     "output_type": "execute_result"
    }
   ],
   "source": [
    "h = np.hstack((a,b))\n",
    "h"
   ]
  },
  {
   "cell_type": "code",
   "execution_count": 89,
   "id": "eb6093da",
   "metadata": {},
   "outputs": [
    {
     "data": {
      "text/plain": [
       "((2, 3), (2, 3), (2, 6))"
      ]
     },
     "execution_count": 89,
     "metadata": {},
     "output_type": "execute_result"
    }
   ],
   "source": [
    "a.shape, b.shape, h.shape"
   ]
  },
  {
   "cell_type": "code",
   "execution_count": 90,
   "id": "32575072",
   "metadata": {},
   "outputs": [
    {
     "data": {
      "text/plain": [
       "array([[0., 0., 0., 1., 1., 1.],\n",
       "       [0., 0., 0., 1., 1., 1.]])"
      ]
     },
     "execution_count": 90,
     "metadata": {},
     "output_type": "execute_result"
    }
   ],
   "source": [
    "np.concatenate((a,b), axis = 1)"
   ]
  },
  {
   "cell_type": "markdown",
   "id": "d10fe79b",
   "metadata": {},
   "source": [
    "Соединение в глубину (в третьем измерение)"
   ]
  },
  {
   "cell_type": "code",
   "execution_count": 91,
   "id": "b41efff0",
   "metadata": {},
   "outputs": [
    {
     "data": {
      "text/plain": [
       "array([[[0., 1.],\n",
       "        [0., 1.],\n",
       "        [0., 1.]],\n",
       "\n",
       "       [[0., 1.],\n",
       "        [0., 1.],\n",
       "        [0., 1.]]])"
      ]
     },
     "execution_count": 91,
     "metadata": {},
     "output_type": "execute_result"
    }
   ],
   "source": [
    "d = np.dstack([a,b])\n",
    "d"
   ]
  },
  {
   "cell_type": "markdown",
   "id": "0b6fdd99",
   "metadata": {},
   "source": [
    " ## Выбор данных из массива"
   ]
  },
  {
   "cell_type": "code",
   "execution_count": 95,
   "id": "b34898d9",
   "metadata": {},
   "outputs": [],
   "source": [
    "a = np.random.randint(0,20,10)"
   ]
  },
  {
   "cell_type": "code",
   "execution_count": 96,
   "id": "c8b9cc13",
   "metadata": {},
   "outputs": [
    {
     "data": {
      "text/plain": [
       "array([16,  9, 15, 14, 14, 18, 11, 19,  2,  4])"
      ]
     },
     "execution_count": 96,
     "metadata": {},
     "output_type": "execute_result"
    }
   ],
   "source": [
    "a"
   ]
  },
  {
   "cell_type": "markdown",
   "id": "37c56718",
   "metadata": {},
   "source": [
    "Для того чтобы выбрать из массива числа больше 10:"
   ]
  },
  {
   "cell_type": "code",
   "execution_count": 97,
   "id": "8a530143",
   "metadata": {},
   "outputs": [
    {
     "data": {
      "text/plain": [
       "array([16, 15, 14, 14, 18, 11, 19])"
      ]
     },
     "execution_count": 97,
     "metadata": {},
     "output_type": "execute_result"
    }
   ],
   "source": [
    "a[a>10]"
   ]
  },
  {
   "cell_type": "code",
   "execution_count": 98,
   "id": "45eb38bc",
   "metadata": {},
   "outputs": [
    {
     "data": {
      "text/plain": [
       "array([16, 14, 14, 18])"
      ]
     },
     "execution_count": 98,
     "metadata": {},
     "output_type": "execute_result"
    }
   ],
   "source": [
    "a[(a > 10) & (a % 2 == 0)] #Если нужно выбрать два условия используем $"
   ]
  },
  {
   "cell_type": "code",
   "execution_count": 99,
   "id": "31870ce3",
   "metadata": {},
   "outputs": [
    {
     "data": {
      "text/plain": [
       "array([16,  9, 15, 14, 14, 18, 11, 19])"
      ]
     },
     "execution_count": 99,
     "metadata": {},
     "output_type": "execute_result"
    }
   ],
   "source": [
    "# Если нужно чтобы выборка отвечала одному из условий используем |\n",
    "a[(a > 10) | (a % 3 == 0)]"
   ]
  },
  {
   "cell_type": "markdown",
   "id": "4e66ed82",
   "metadata": {},
   "source": [
    "**numpy.where** - первый вариант"
   ]
  },
  {
   "cell_type": "code",
   "execution_count": 100,
   "id": "f723e0e0",
   "metadata": {},
   "outputs": [
    {
     "data": {
      "text/plain": [
       "array([16,  9, 15, 14, 14, 18, 11, 19,  2,  4])"
      ]
     },
     "execution_count": 100,
     "metadata": {},
     "output_type": "execute_result"
    }
   ],
   "source": [
    "a"
   ]
  },
  {
   "cell_type": "markdown",
   "id": "cc89ed9f",
   "metadata": {},
   "source": [
    "Получаем не сами числа, а их индексы\n",
    "Тут мы получаем индексы чисел, которые блольше 10"
   ]
  },
  {
   "cell_type": "code",
   "execution_count": 101,
   "id": "4e9f504d",
   "metadata": {},
   "outputs": [
    {
     "data": {
      "text/plain": [
       "(array([0, 2, 3, 4, 5, 6, 7]),)"
      ]
     },
     "execution_count": 101,
     "metadata": {},
     "output_type": "execute_result"
    }
   ],
   "source": [
    "# Возвращает индексы чисел, удовлетворяющие условию\n",
    "np.where(a > 10)"
   ]
  },
  {
   "cell_type": "code",
   "execution_count": 102,
   "id": "174c4924",
   "metadata": {},
   "outputs": [
    {
     "data": {
      "text/plain": [
       "array([16, 15, 14, 14, 18, 11, 19])"
      ]
     },
     "execution_count": 102,
     "metadata": {},
     "output_type": "execute_result"
    }
   ],
   "source": [
    "a[np.where(a>10)] "
   ]
  },
  {
   "cell_type": "markdown",
   "id": "a9a6cc95",
   "metadata": {},
   "source": [
    "**np.where** - второй вариант"
   ]
  },
  {
   "cell_type": "code",
   "execution_count": 103,
   "id": "9b79e9df",
   "metadata": {},
   "outputs": [],
   "source": [
    "a = [1, 4, 7]\n",
    "b = [9, 2, 5]"
   ]
  },
  {
   "cell_type": "markdown",
   "id": "c087e4ae",
   "metadata": {},
   "source": [
    "Мы указываем три аргумента, причем первый является маской"
   ]
  },
  {
   "cell_type": "code",
   "execution_count": 104,
   "id": "605aa3f8",
   "metadata": {},
   "outputs": [
    {
     "data": {
      "text/plain": [
       "array([1, 2, 7])"
      ]
     },
     "execution_count": 104,
     "metadata": {},
     "output_type": "execute_result"
    }
   ],
   "source": [
    "# Если в условии TRUE, то берем элемент из массива а\n",
    "# если False - то из b\n",
    "np.where([True, False, True], a, b)"
   ]
  },
  {
   "cell_type": "markdown",
   "id": "2717a14e",
   "metadata": {},
   "source": [
    "### Сортировка"
   ]
  },
  {
   "cell_type": "code",
   "execution_count": 105,
   "id": "cf5cea11",
   "metadata": {},
   "outputs": [],
   "source": [
    "a = np.array([[1, 3, 9, 9],\n",
    "             [5, 0, 1, 5],\n",
    "             [2, 7, 3, 5]])"
   ]
  },
  {
   "cell_type": "markdown",
   "id": "fb0a51e2",
   "metadata": {},
   "source": [
    "Сделаем сортировку по нулевому столбцу"
   ]
  },
  {
   "cell_type": "code",
   "execution_count": 106,
   "id": "f7f2aebc",
   "metadata": {},
   "outputs": [
    {
     "data": {
      "text/plain": [
       "array([[1, 3, 9, 9],\n",
       "       [2, 7, 3, 5],\n",
       "       [5, 0, 1, 5]])"
      ]
     },
     "execution_count": 106,
     "metadata": {},
     "output_type": "execute_result"
    }
   ],
   "source": [
    "a[[0,2,1], :]"
   ]
  },
  {
   "cell_type": "markdown",
   "id": "760b8137",
   "metadata": {},
   "source": [
    "Чтобы сделать автоматическую сортировку по определенной оси, используем функцию **argsort()**"
   ]
  },
  {
   "cell_type": "code",
   "execution_count": 107,
   "id": "66ac7b25",
   "metadata": {},
   "outputs": [
    {
     "data": {
      "text/plain": [
       "array([[0, 1, 1, 1],\n",
       "       [2, 0, 2, 2],\n",
       "       [1, 2, 0, 0]])"
      ]
     },
     "execution_count": 107,
     "metadata": {},
     "output_type": "execute_result"
    }
   ],
   "source": [
    "a.argsort(axis = 0)"
   ]
  },
  {
   "cell_type": "code",
   "execution_count": 108,
   "id": "b7c1abb1",
   "metadata": {},
   "outputs": [
    {
     "data": {
      "text/plain": [
       "array([0, 2, 1])"
      ]
     },
     "execution_count": 108,
     "metadata": {},
     "output_type": "execute_result"
    }
   ],
   "source": [
    "a[:, 0].argsort()"
   ]
  },
  {
   "cell_type": "code",
   "execution_count": 109,
   "id": "bc565571",
   "metadata": {},
   "outputs": [
    {
     "data": {
      "text/plain": [
       "array([[1, 3, 9, 9],\n",
       "       [2, 7, 3, 5],\n",
       "       [5, 0, 1, 5]])"
      ]
     },
     "execution_count": 109,
     "metadata": {},
     "output_type": "execute_result"
    }
   ],
   "source": [
    "a[a[:, 0].argsort(), :]"
   ]
  },
  {
   "cell_type": "markdown",
   "id": "8b947d71",
   "metadata": {},
   "source": [
    "### Случайное перемешивание массивов"
   ]
  },
  {
   "cell_type": "code",
   "execution_count": 110,
   "id": "8502af18",
   "metadata": {},
   "outputs": [
    {
     "data": {
      "text/plain": [
       "array([0, 1, 2, 3, 4, 5, 6, 7, 8, 9])"
      ]
     },
     "execution_count": 110,
     "metadata": {},
     "output_type": "execute_result"
    }
   ],
   "source": [
    "a = np.arange(10)\n",
    "a"
   ]
  },
  {
   "cell_type": "code",
   "execution_count": 111,
   "id": "35bb4b09",
   "metadata": {},
   "outputs": [],
   "source": [
    "# inplace на месте\n",
    "np.random.shuffle(a)"
   ]
  },
  {
   "cell_type": "code",
   "execution_count": 112,
   "id": "a3dc7823",
   "metadata": {},
   "outputs": [
    {
     "data": {
      "text/plain": [
       "array([7, 9, 5, 8, 3, 1, 0, 4, 6, 2])"
      ]
     },
     "execution_count": 112,
     "metadata": {},
     "output_type": "execute_result"
    }
   ],
   "source": [
    "a"
   ]
  },
  {
   "cell_type": "code",
   "execution_count": 129,
   "id": "8d732774",
   "metadata": {},
   "outputs": [
    {
     "data": {
      "text/plain": [
       "array([[ 0,  1,  2],\n",
       "       [ 3,  4,  5],\n",
       "       [ 6,  7,  8],\n",
       "       [ 9, 10, 11]])"
      ]
     },
     "execution_count": 129,
     "metadata": {},
     "output_type": "execute_result"
    }
   ],
   "source": [
    "a = np.arange(12).reshape(4,3)\n",
    "a"
   ]
  },
  {
   "cell_type": "code",
   "execution_count": 130,
   "id": "ec80b796",
   "metadata": {},
   "outputs": [
    {
     "data": {
      "text/plain": [
       "array([[ 9, 10, 11],\n",
       "       [ 6,  7,  8],\n",
       "       [ 3,  4,  5],\n",
       "       [ 0,  1,  2]])"
      ]
     },
     "execution_count": 130,
     "metadata": {},
     "output_type": "execute_result"
    }
   ],
   "source": [
    "# inplace/\n",
    "np.random.shuffle(a) # Смешивает только строки\n",
    "a"
   ]
  },
  {
   "cell_type": "markdown",
   "id": "2cdd7977",
   "metadata": {},
   "source": [
    "### Математические действия с массивами"
   ]
  },
  {
   "cell_type": "markdown",
   "id": "47ea1062",
   "metadata": {},
   "source": [
    "Применение математических действий ко всему массиву"
   ]
  },
  {
   "cell_type": "code",
   "execution_count": 132,
   "id": "b03ad134",
   "metadata": {},
   "outputs": [
    {
     "data": {
      "text/plain": [
       "array([[1, 2, 3],\n",
       "       [4, 5, 6]])"
      ]
     },
     "execution_count": 132,
     "metadata": {},
     "output_type": "execute_result"
    }
   ],
   "source": [
    "a = np.arange(1,7).reshape(2,3)\n",
    "a"
   ]
  },
  {
   "cell_type": "code",
   "execution_count": 117,
   "id": "49dfdd4a",
   "metadata": {},
   "outputs": [
    {
     "data": {
      "text/plain": [
       "array([[0.        , 0.69314718, 1.09861229],\n",
       "       [1.38629436, 1.60943791, 1.79175947]])"
      ]
     },
     "execution_count": 117,
     "metadata": {},
     "output_type": "execute_result"
    }
   ],
   "source": [
    "# Логарифм по основанию е\n",
    "np.log(a)"
   ]
  },
  {
   "cell_type": "code",
   "execution_count": 118,
   "id": "d07a5789",
   "metadata": {},
   "outputs": [
    {
     "data": {
      "text/plain": [
       "array([[  2.71828183,   7.3890561 ,  20.08553692],\n",
       "       [ 54.59815003, 148.4131591 , 403.42879349]])"
      ]
     },
     "execution_count": 118,
     "metadata": {},
     "output_type": "execute_result"
    }
   ],
   "source": [
    "# Экспонента \n",
    "np.exp(a)"
   ]
  },
  {
   "cell_type": "code",
   "execution_count": 119,
   "id": "5ef3fd44",
   "metadata": {},
   "outputs": [
    {
     "data": {
      "text/plain": [
       "21"
      ]
     },
     "execution_count": 119,
     "metadata": {},
     "output_type": "execute_result"
    }
   ],
   "source": [
    "# Просумирует все элементы этого массива\n",
    "a.sum()"
   ]
  },
  {
   "cell_type": "code",
   "execution_count": 121,
   "id": "c1f88884",
   "metadata": {},
   "outputs": [
    {
     "data": {
      "text/plain": [
       "array([5, 7, 9])"
      ]
     },
     "execution_count": 121,
     "metadata": {},
     "output_type": "execute_result"
    }
   ],
   "source": [
    "# Суммирование значений по каждому столбцу\n",
    "\n",
    "a.sum(axis = 0)"
   ]
  },
  {
   "cell_type": "code",
   "execution_count": 122,
   "id": "3a20dc8a",
   "metadata": {},
   "outputs": [
    {
     "data": {
      "text/plain": [
       "array([ 6, 15])"
      ]
     },
     "execution_count": 122,
     "metadata": {},
     "output_type": "execute_result"
    }
   ],
   "source": [
    "# По каждой строке\n",
    "a.sum(axis = 1)"
   ]
  },
  {
   "cell_type": "markdown",
   "id": "288975bd",
   "metadata": {},
   "source": [
    "Если мы прибавим число к этому массиву, то оно прибавится к каждому элементу этого массива"
   ]
  },
  {
   "cell_type": "code",
   "execution_count": 124,
   "id": "b58d595c",
   "metadata": {},
   "outputs": [
    {
     "data": {
      "text/plain": [
       "array([[1, 2, 3],\n",
       "       [4, 5, 6]])"
      ]
     },
     "execution_count": 124,
     "metadata": {},
     "output_type": "execute_result"
    }
   ],
   "source": [
    "a"
   ]
  },
  {
   "cell_type": "code",
   "execution_count": 131,
   "id": "01d772d5",
   "metadata": {},
   "outputs": [
    {
     "data": {
      "text/plain": [
       "array([[19, 20, 21],\n",
       "       [16, 17, 18],\n",
       "       [13, 14, 15],\n",
       "       [10, 11, 12]])"
      ]
     },
     "execution_count": 131,
     "metadata": {},
     "output_type": "execute_result"
    }
   ],
   "source": [
    "a + 10"
   ]
  },
  {
   "cell_type": "code",
   "execution_count": 133,
   "id": "778412ae",
   "metadata": {},
   "outputs": [
    {
     "data": {
      "text/plain": [
       "array([[1, 2, 3],\n",
       "       [4, 5, 6]])"
      ]
     },
     "execution_count": 133,
     "metadata": {},
     "output_type": "execute_result"
    }
   ],
   "source": [
    "a"
   ]
  },
  {
   "cell_type": "markdown",
   "id": "e9139f0e",
   "metadata": {},
   "source": [
    "Поэлементное (не матричное) умножение"
   ]
  },
  {
   "cell_type": "code",
   "execution_count": 138,
   "id": "e66d6854",
   "metadata": {},
   "outputs": [],
   "source": [
    "a = np.arange(12).reshape(3, -1)"
   ]
  },
  {
   "cell_type": "code",
   "execution_count": 139,
   "id": "49c3bc94",
   "metadata": {},
   "outputs": [
    {
     "data": {
      "text/plain": [
       "array([[ 0,  1,  2,  3],\n",
       "       [ 4,  5,  6,  7],\n",
       "       [ 8,  9, 10, 11]])"
      ]
     },
     "execution_count": 139,
     "metadata": {},
     "output_type": "execute_result"
    }
   ],
   "source": [
    "a"
   ]
  },
  {
   "cell_type": "code",
   "execution_count": 140,
   "id": "12770f0c",
   "metadata": {},
   "outputs": [
    {
     "data": {
      "text/plain": [
       "array([[12, 13, 14, 15],\n",
       "       [16, 17, 18, 19],\n",
       "       [20, 21, 22, 23]])"
      ]
     },
     "execution_count": 140,
     "metadata": {},
     "output_type": "execute_result"
    }
   ],
   "source": [
    "b = np.arange(12,24).reshape(-1, 4)\n",
    "b"
   ]
  },
  {
   "cell_type": "code",
   "execution_count": 141,
   "id": "7f31146c",
   "metadata": {},
   "outputs": [
    {
     "data": {
      "text/plain": [
       "array([[  0,  13,  28,  45],\n",
       "       [ 64,  85, 108, 133],\n",
       "       [160, 189, 220, 253]])"
      ]
     },
     "execution_count": 141,
     "metadata": {},
     "output_type": "execute_result"
    }
   ],
   "source": [
    "a * b # Здесь поэлементно перемножаются все члены массива"
   ]
  },
  {
   "cell_type": "markdown",
   "id": "1b15402e",
   "metadata": {},
   "source": [
    "### BROADCASTING (на примере сложения)"
   ]
  },
  {
   "cell_type": "code",
   "execution_count": 142,
   "id": "ab5a07ce",
   "metadata": {},
   "outputs": [],
   "source": [
    " a = np.array([[2, 5],\n",
    "               [3, 4],\n",
    "               [6, 1]])"
   ]
  },
  {
   "cell_type": "markdown",
   "id": "8ebd6d40",
   "metadata": {},
   "source": [
    "1 случай - совпадает только **число столбцов**"
   ]
  },
  {
   "cell_type": "code",
   "execution_count": 143,
   "id": "6c2bf40a",
   "metadata": {},
   "outputs": [],
   "source": [
    "b = np.array([1, 2])"
   ]
  },
  {
   "cell_type": "markdown",
   "id": "14a58972",
   "metadata": {},
   "source": [
    "В данно случае у нас совпадает число столбцов"
   ]
  },
  {
   "cell_type": "code",
   "execution_count": 144,
   "id": "714b93f1",
   "metadata": {},
   "outputs": [
    {
     "data": {
      "text/plain": [
       "array([[3, 7],\n",
       "       [4, 6],\n",
       "       [7, 3]])"
      ]
     },
     "execution_count": 144,
     "metadata": {},
     "output_type": "execute_result"
    }
   ],
   "source": [
    "a + b # К каждой строке а прибавляется стока b"
   ]
  },
  {
   "cell_type": "markdown",
   "id": "a61a3b1b",
   "metadata": {},
   "source": [
    " 2 случай - совпадает только число строк"
   ]
  },
  {
   "cell_type": "code",
   "execution_count": 146,
   "id": "89b7b231",
   "metadata": {},
   "outputs": [],
   "source": [
    "c = np.array([[1],\n",
    "             [2],\n",
    "             [3]])"
   ]
  },
  {
   "cell_type": "code",
   "execution_count": 147,
   "id": "4648e98e",
   "metadata": {},
   "outputs": [
    {
     "data": {
      "text/plain": [
       "array([[3, 6],\n",
       "       [5, 6],\n",
       "       [9, 4]])"
      ]
     },
     "execution_count": 147,
     "metadata": {},
     "output_type": "execute_result"
    }
   ],
   "source": [
    "a + c"
   ]
  },
  {
   "cell_type": "markdown",
   "id": "a47dc8c5",
   "metadata": {},
   "source": [
    "Складываются только столбцы, при чем два раза"
   ]
  },
  {
   "cell_type": "markdown",
   "id": "90fffe49",
   "metadata": {},
   "source": [
    "### Статистические функции"
   ]
  },
  {
   "cell_type": "code",
   "execution_count": 149,
   "id": "827f15aa",
   "metadata": {},
   "outputs": [
    {
     "data": {
      "text/plain": [
       "array([[11, 11,  6, 11],\n",
       "       [ 7,  2,  0,  3],\n",
       "       [ 1,  7,  3,  1]])"
      ]
     },
     "execution_count": 149,
     "metadata": {},
     "output_type": "execute_result"
    }
   ],
   "source": [
    "a = np.random.randint(0, 12, (3, 4))\n",
    "a"
   ]
  },
  {
   "cell_type": "code",
   "execution_count": 152,
   "id": "9c2ea9d6",
   "metadata": {},
   "outputs": [
    {
     "data": {
      "text/plain": [
       "0"
      ]
     },
     "execution_count": 152,
     "metadata": {},
     "output_type": "execute_result"
    }
   ],
   "source": [
    "a.min() #Минимальное значение в массиве"
   ]
  },
  {
   "cell_type": "code",
   "execution_count": 154,
   "id": "55afbad0",
   "metadata": {},
   "outputs": [
    {
     "data": {
      "text/plain": [
       "array([1, 2, 0, 1])"
      ]
     },
     "execution_count": 154,
     "metadata": {},
     "output_type": "execute_result"
    }
   ],
   "source": [
    "a.min(axis = 0) #Минимум для каждого столбца"
   ]
  },
  {
   "cell_type": "code",
   "execution_count": 155,
   "id": "1e82629d",
   "metadata": {},
   "outputs": [
    {
     "data": {
      "text/plain": [
       "array([11,  7,  7])"
      ]
     },
     "execution_count": 155,
     "metadata": {},
     "output_type": "execute_result"
    }
   ],
   "source": [
    "a.max(axis = 1) #Максимум для каждой строки"
   ]
  },
  {
   "cell_type": "code",
   "execution_count": 156,
   "id": "210f21e6",
   "metadata": {},
   "outputs": [
    {
     "data": {
      "text/plain": [
       "11"
      ]
     },
     "execution_count": 156,
     "metadata": {},
     "output_type": "execute_result"
    }
   ],
   "source": [
    "a.max() # Максимум в массиве"
   ]
  },
  {
   "cell_type": "code",
   "execution_count": 157,
   "id": "88763195",
   "metadata": {},
   "outputs": [
    {
     "data": {
      "text/plain": [
       "array([6.33333333, 6.66666667, 3.        , 5.        ])"
      ]
     },
     "execution_count": 157,
     "metadata": {},
     "output_type": "execute_result"
    }
   ],
   "source": [
    "a.mean(axis = 0) # Среднее значение для каждого столбца"
   ]
  },
  {
   "cell_type": "code",
   "execution_count": 158,
   "id": "b6774ac5",
   "metadata": {},
   "outputs": [
    {
     "data": {
      "text/plain": [
       "array([4.10960934, 3.68178701, 2.44948974, 4.3204938 ])"
      ]
     },
     "execution_count": 158,
     "metadata": {},
     "output_type": "execute_result"
    }
   ],
   "source": [
    "a.std(axis = 0) # Вычислить среднее квадратичное отклонение"
   ]
  },
  {
   "cell_type": "markdown",
   "id": "960e662a",
   "metadata": {},
   "source": [
    "### Запись или чтение массива из файла"
   ]
  },
  {
   "cell_type": "code",
   "execution_count": 159,
   "id": "4b409e16",
   "metadata": {},
   "outputs": [],
   "source": [
    "np.save('a.npy', a)"
   ]
  },
  {
   "cell_type": "code",
   "execution_count": 160,
   "id": "35a2e255",
   "metadata": {},
   "outputs": [],
   "source": [
    "b = np.load('a.npy')"
   ]
  },
  {
   "cell_type": "code",
   "execution_count": 161,
   "id": "e4161e8b",
   "metadata": {},
   "outputs": [
    {
     "data": {
      "text/plain": [
       "array([[11, 11,  6, 11],\n",
       "       [ 7,  2,  0,  3],\n",
       "       [ 1,  7,  3,  1]])"
      ]
     },
     "execution_count": 161,
     "metadata": {},
     "output_type": "execute_result"
    }
   ],
   "source": [
    "b"
   ]
  }
 ],
 "metadata": {
  "kernelspec": {
   "display_name": "Python 3 (ipykernel)",
   "language": "python",
   "name": "python3"
  },
  "language_info": {
   "codemirror_mode": {
    "name": "ipython",
    "version": 3
   },
   "file_extension": ".py",
   "mimetype": "text/x-python",
   "name": "python",
   "nbconvert_exporter": "python",
   "pygments_lexer": "ipython3",
   "version": "3.9.7"
  }
 },
 "nbformat": 4,
 "nbformat_minor": 5
}
